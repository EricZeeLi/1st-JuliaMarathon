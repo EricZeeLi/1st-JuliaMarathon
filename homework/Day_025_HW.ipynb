{
 "cells": [
  {
   "cell_type": "markdown",
   "metadata": {},
   "source": [
    "# 程式語言外部呼叫：在 Julia 內使用 Python"
   ]
  },
  {
   "cell_type": "code",
   "execution_count": 1,
   "metadata": {},
   "outputs": [],
   "source": [
    "using PyCall"
   ]
  },
  {
   "cell_type": "code",
   "execution_count": 4,
   "metadata": {},
   "outputs": [],
   "source": [
    "py\"\"\"\n",
    "from ldif3 import LDIFWriter\n",
    "\n",
    "writer = LDIFWriter(open('Day_025_data.ldif', 'wb'))\n",
    "writer.unparse('mail=alice@example.com', {\n",
    "    'cn': ['Alice Alison'],\n",
    "    'mail': ['alice@example.com'],\n",
    "    'objectclass': ['top', 'person'],\n",
    "})\n",
    "\"\"\""
   ]
  },
  {
   "cell_type": "code",
   "execution_count": 5,
   "metadata": {},
   "outputs": [],
   "source": [
    "py\"\"\"\n",
    "from ldif3 import LDIFParser\n",
    "from pprint import pprint\n",
    "\n",
    "parser = LDIFParser(open('Day_025_data.ldif', 'rb'))\n",
    "for dn, entry in parser.parse():\n",
    "    print('got entry record: %s' % dn)\n",
    "    pprint(entry)\n",
    "\"\"\""
   ]
  },
  {
   "cell_type": "code",
   "execution_count": 7,
   "metadata": {},
   "outputs": [
    {
     "name": "stdout",
     "output_type": "stream",
     "text": [
      "String \"[{\\\"cn\\\": [\\\"Alice Alison\\\"], \\\"mail\\\": [\\\"alice@example.com\\\"], \\\"objectclass\\\": [\\\"top\\\", \\\"person\\\"], \\\"dn\\\": [\\\"mail=alice@example.com\\\"]}]\"\n",
      "Array{Any}((1,))\n",
      "  1: Dict{String,Any}\n",
      "    slots: Array{UInt8}((16,)) UInt8[0x00, 0x01, 0x00, 0x00, 0x00, 0x00, 0x01, 0x00, 0x01, 0x00, 0x01, 0x00, 0x00, 0x00, 0x00, 0x00]\n",
      "    keys: Array{String}((16,))\n",
      "      1: #undef\n",
      "      2: String \"objectclass\"\n",
      "      3: #undef\n",
      "      4: #undef\n",
      "      5: #undef\n",
      "      ...\n",
      "      12: #undef\n",
      "      13: #undef\n",
      "      14: #undef\n",
      "      15: #undef\n",
      "      16: #undef\n",
      "    vals: Array{Any}((16,))\n",
      "      1: #undef\n",
      "      2: Array{Any}((2,))\n",
      "        1: String \"top\"\n",
      "        2: String \"person\"\n",
      "      3: #undef\n",
      "      4: #undef\n",
      "      5: #undef\n",
      "      ...\n",
      "      12: #undef\n",
      "      13: #undef\n",
      "      14: #undef\n",
      "      15: #undef\n",
      "      16: #undef\n",
      "    ndel: Int64 0\n",
      "    count: Int64 4\n",
      "    age: UInt64 0x0000000000000004\n",
      "    idxfloor: Int64 1\n",
      "    maxprobe: Int64 0\n",
      "objectclass: top\n",
      "objectclass: person\n",
      "dn: mail=alice@example.com\n",
      "mail: alice@example.com\n",
      "cn: Alice Alison\n"
     ]
    }
   ],
   "source": [
    "using PyCall\n",
    "using JSON\n",
    "\n",
    "py\"\"\"\n",
    "import ldif3\n",
    "import json\n",
    "\n",
    "def ldif2json(ldif):\n",
    "    parser = LDIFParser(open(ldif, 'rb'))\n",
    "    l=[]\n",
    "    for dn, entry in parser.parse():\n",
    "        entry['dn']=[dn]\n",
    "        l.append(entry)\n",
    "\n",
    "    return json.dumps(l)\n",
    "\"\"\"\n",
    "\n",
    "x=py\"ldif2json\"(\"Day_025_data.ldif\")\n",
    "dump(x)\n",
    "\n",
    "y=JSON.parse(x)\n",
    "dump(y)\n",
    "\n",
    "for i in y # Records\n",
    "    for j in i # Attributes \n",
    "        for k in j.second # Values\n",
    "            print(j.first, \": \")\n",
    "            println(k)\n",
    "        end\n",
    "    end\n",
    "end"
   ]
  }
 ],
 "metadata": {
  "kernelspec": {
   "display_name": "Julia 1.4.0",
   "language": "julia",
   "name": "julia-1.4"
  },
  "language_info": {
   "file_extension": ".jl",
   "mimetype": "application/julia",
   "name": "julia",
   "version": "1.4.0"
  }
 },
 "nbformat": 4,
 "nbformat_minor": 4
}
