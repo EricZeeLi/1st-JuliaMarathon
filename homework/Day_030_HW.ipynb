{
 "cells": [
  {
   "cell_type": "markdown",
   "metadata": {},
   "source": [
    "# Julia 機器學習：DecisionTree 決策樹\n",
    "\n",
    "## 作業 030：乳癌預測資料集\n",
    "\n",
    "請使用隨機森林模型建立一個分類模型，來預測乳癌資料集中，為良性或是惡性的腫瘤。"
   ]
  },
  {
   "cell_type": "code",
   "execution_count": 1,
   "metadata": {},
   "outputs": [],
   "source": [
    "using DecisionTree, RDatasets, DataFrames, MLDataUtils, Statistics"
   ]
  },
  {
   "cell_type": "markdown",
   "metadata": {},
   "source": [
    "## 讀取資料"
   ]
  },
  {
   "cell_type": "code",
   "execution_count": 2,
   "metadata": {},
   "outputs": [
    {
     "data": {
      "text/html": [
       "<table class=\"data-frame\"><thead><tr><th></th><th>ID</th><th>V1</th><th>V2</th><th>V3</th><th>V4</th><th>V5</th><th>V6</th><th>V7</th><th>V8</th><th>V9</th><th>Class</th></tr><tr><th></th><th>String</th><th>Int32</th><th>Int32</th><th>Int32</th><th>Int32</th><th>Int32</th><th>Int32⍰</th><th>Int32</th><th>Int32</th><th>Int32</th><th>Categorical…</th></tr></thead><tbody><p>699 rows × 11 columns</p><tr><th>1</th><td>1000025</td><td>5</td><td>1</td><td>1</td><td>1</td><td>2</td><td>1</td><td>3</td><td>1</td><td>1</td><td>benign</td></tr><tr><th>2</th><td>1002945</td><td>5</td><td>4</td><td>4</td><td>5</td><td>7</td><td>10</td><td>3</td><td>2</td><td>1</td><td>benign</td></tr><tr><th>3</th><td>1015425</td><td>3</td><td>1</td><td>1</td><td>1</td><td>2</td><td>2</td><td>3</td><td>1</td><td>1</td><td>benign</td></tr><tr><th>4</th><td>1016277</td><td>6</td><td>8</td><td>8</td><td>1</td><td>3</td><td>4</td><td>3</td><td>7</td><td>1</td><td>benign</td></tr><tr><th>5</th><td>1017023</td><td>4</td><td>1</td><td>1</td><td>3</td><td>2</td><td>1</td><td>3</td><td>1</td><td>1</td><td>benign</td></tr><tr><th>6</th><td>1017122</td><td>8</td><td>10</td><td>10</td><td>8</td><td>7</td><td>10</td><td>9</td><td>7</td><td>1</td><td>malignant</td></tr><tr><th>7</th><td>1018099</td><td>1</td><td>1</td><td>1</td><td>1</td><td>2</td><td>10</td><td>3</td><td>1</td><td>1</td><td>benign</td></tr><tr><th>8</th><td>1018561</td><td>2</td><td>1</td><td>2</td><td>1</td><td>2</td><td>1</td><td>3</td><td>1</td><td>1</td><td>benign</td></tr><tr><th>9</th><td>1033078</td><td>2</td><td>1</td><td>1</td><td>1</td><td>2</td><td>1</td><td>1</td><td>1</td><td>5</td><td>benign</td></tr><tr><th>10</th><td>1033078</td><td>4</td><td>2</td><td>1</td><td>1</td><td>2</td><td>1</td><td>2</td><td>1</td><td>1</td><td>benign</td></tr><tr><th>11</th><td>1035283</td><td>1</td><td>1</td><td>1</td><td>1</td><td>1</td><td>1</td><td>3</td><td>1</td><td>1</td><td>benign</td></tr><tr><th>12</th><td>1036172</td><td>2</td><td>1</td><td>1</td><td>1</td><td>2</td><td>1</td><td>2</td><td>1</td><td>1</td><td>benign</td></tr><tr><th>13</th><td>1041801</td><td>5</td><td>3</td><td>3</td><td>3</td><td>2</td><td>3</td><td>4</td><td>4</td><td>1</td><td>malignant</td></tr><tr><th>14</th><td>1043999</td><td>1</td><td>1</td><td>1</td><td>1</td><td>2</td><td>3</td><td>3</td><td>1</td><td>1</td><td>benign</td></tr><tr><th>15</th><td>1044572</td><td>8</td><td>7</td><td>5</td><td>10</td><td>7</td><td>9</td><td>5</td><td>5</td><td>4</td><td>malignant</td></tr><tr><th>16</th><td>1047630</td><td>7</td><td>4</td><td>6</td><td>4</td><td>6</td><td>1</td><td>4</td><td>3</td><td>1</td><td>malignant</td></tr><tr><th>17</th><td>1048672</td><td>4</td><td>1</td><td>1</td><td>1</td><td>2</td><td>1</td><td>2</td><td>1</td><td>1</td><td>benign</td></tr><tr><th>18</th><td>1049815</td><td>4</td><td>1</td><td>1</td><td>1</td><td>2</td><td>1</td><td>3</td><td>1</td><td>1</td><td>benign</td></tr><tr><th>19</th><td>1050670</td><td>10</td><td>7</td><td>7</td><td>6</td><td>4</td><td>10</td><td>4</td><td>1</td><td>2</td><td>malignant</td></tr><tr><th>20</th><td>1050718</td><td>6</td><td>1</td><td>1</td><td>1</td><td>2</td><td>1</td><td>3</td><td>1</td><td>1</td><td>benign</td></tr><tr><th>21</th><td>1054590</td><td>7</td><td>3</td><td>2</td><td>10</td><td>5</td><td>10</td><td>5</td><td>4</td><td>4</td><td>malignant</td></tr><tr><th>22</th><td>1054593</td><td>10</td><td>5</td><td>5</td><td>3</td><td>6</td><td>7</td><td>7</td><td>10</td><td>1</td><td>malignant</td></tr><tr><th>23</th><td>1056784</td><td>3</td><td>1</td><td>1</td><td>1</td><td>2</td><td>1</td><td>2</td><td>1</td><td>1</td><td>benign</td></tr><tr><th>24</th><td>1057013</td><td>8</td><td>4</td><td>5</td><td>1</td><td>2</td><td>missing</td><td>7</td><td>3</td><td>1</td><td>malignant</td></tr><tr><th>25</th><td>1059552</td><td>1</td><td>1</td><td>1</td><td>1</td><td>2</td><td>1</td><td>3</td><td>1</td><td>1</td><td>benign</td></tr><tr><th>26</th><td>1065726</td><td>5</td><td>2</td><td>3</td><td>4</td><td>2</td><td>7</td><td>3</td><td>6</td><td>1</td><td>malignant</td></tr><tr><th>27</th><td>1066373</td><td>3</td><td>2</td><td>1</td><td>1</td><td>1</td><td>1</td><td>2</td><td>1</td><td>1</td><td>benign</td></tr><tr><th>28</th><td>1066979</td><td>5</td><td>1</td><td>1</td><td>1</td><td>2</td><td>1</td><td>2</td><td>1</td><td>1</td><td>benign</td></tr><tr><th>29</th><td>1067444</td><td>2</td><td>1</td><td>1</td><td>1</td><td>2</td><td>1</td><td>2</td><td>1</td><td>1</td><td>benign</td></tr><tr><th>30</th><td>1070935</td><td>1</td><td>1</td><td>3</td><td>1</td><td>2</td><td>1</td><td>1</td><td>1</td><td>1</td><td>benign</td></tr><tr><th>&vellip;</th><td>&vellip;</td><td>&vellip;</td><td>&vellip;</td><td>&vellip;</td><td>&vellip;</td><td>&vellip;</td><td>&vellip;</td><td>&vellip;</td><td>&vellip;</td><td>&vellip;</td><td>&vellip;</td></tr></tbody></table>"
      ],
      "text/latex": [
       "\\begin{tabular}{r|ccccccccccc}\n",
       "\t& ID & V1 & V2 & V3 & V4 & V5 & V6 & V7 & V8 & V9 & Class\\\\\n",
       "\t\\hline\n",
       "\t& String & Int32 & Int32 & Int32 & Int32 & Int32 & Int32⍰ & Int32 & Int32 & Int32 & Categorical…\\\\\n",
       "\t\\hline\n",
       "\t1 & 1000025 & 5 & 1 & 1 & 1 & 2 & 1 & 3 & 1 & 1 & benign \\\\\n",
       "\t2 & 1002945 & 5 & 4 & 4 & 5 & 7 & 10 & 3 & 2 & 1 & benign \\\\\n",
       "\t3 & 1015425 & 3 & 1 & 1 & 1 & 2 & 2 & 3 & 1 & 1 & benign \\\\\n",
       "\t4 & 1016277 & 6 & 8 & 8 & 1 & 3 & 4 & 3 & 7 & 1 & benign \\\\\n",
       "\t5 & 1017023 & 4 & 1 & 1 & 3 & 2 & 1 & 3 & 1 & 1 & benign \\\\\n",
       "\t6 & 1017122 & 8 & 10 & 10 & 8 & 7 & 10 & 9 & 7 & 1 & malignant \\\\\n",
       "\t7 & 1018099 & 1 & 1 & 1 & 1 & 2 & 10 & 3 & 1 & 1 & benign \\\\\n",
       "\t8 & 1018561 & 2 & 1 & 2 & 1 & 2 & 1 & 3 & 1 & 1 & benign \\\\\n",
       "\t9 & 1033078 & 2 & 1 & 1 & 1 & 2 & 1 & 1 & 1 & 5 & benign \\\\\n",
       "\t10 & 1033078 & 4 & 2 & 1 & 1 & 2 & 1 & 2 & 1 & 1 & benign \\\\\n",
       "\t11 & 1035283 & 1 & 1 & 1 & 1 & 1 & 1 & 3 & 1 & 1 & benign \\\\\n",
       "\t12 & 1036172 & 2 & 1 & 1 & 1 & 2 & 1 & 2 & 1 & 1 & benign \\\\\n",
       "\t13 & 1041801 & 5 & 3 & 3 & 3 & 2 & 3 & 4 & 4 & 1 & malignant \\\\\n",
       "\t14 & 1043999 & 1 & 1 & 1 & 1 & 2 & 3 & 3 & 1 & 1 & benign \\\\\n",
       "\t15 & 1044572 & 8 & 7 & 5 & 10 & 7 & 9 & 5 & 5 & 4 & malignant \\\\\n",
       "\t16 & 1047630 & 7 & 4 & 6 & 4 & 6 & 1 & 4 & 3 & 1 & malignant \\\\\n",
       "\t17 & 1048672 & 4 & 1 & 1 & 1 & 2 & 1 & 2 & 1 & 1 & benign \\\\\n",
       "\t18 & 1049815 & 4 & 1 & 1 & 1 & 2 & 1 & 3 & 1 & 1 & benign \\\\\n",
       "\t19 & 1050670 & 10 & 7 & 7 & 6 & 4 & 10 & 4 & 1 & 2 & malignant \\\\\n",
       "\t20 & 1050718 & 6 & 1 & 1 & 1 & 2 & 1 & 3 & 1 & 1 & benign \\\\\n",
       "\t21 & 1054590 & 7 & 3 & 2 & 10 & 5 & 10 & 5 & 4 & 4 & malignant \\\\\n",
       "\t22 & 1054593 & 10 & 5 & 5 & 3 & 6 & 7 & 7 & 10 & 1 & malignant \\\\\n",
       "\t23 & 1056784 & 3 & 1 & 1 & 1 & 2 & 1 & 2 & 1 & 1 & benign \\\\\n",
       "\t24 & 1057013 & 8 & 4 & 5 & 1 & 2 &  & 7 & 3 & 1 & malignant \\\\\n",
       "\t25 & 1059552 & 1 & 1 & 1 & 1 & 2 & 1 & 3 & 1 & 1 & benign \\\\\n",
       "\t26 & 1065726 & 5 & 2 & 3 & 4 & 2 & 7 & 3 & 6 & 1 & malignant \\\\\n",
       "\t27 & 1066373 & 3 & 2 & 1 & 1 & 1 & 1 & 2 & 1 & 1 & benign \\\\\n",
       "\t28 & 1066979 & 5 & 1 & 1 & 1 & 2 & 1 & 2 & 1 & 1 & benign \\\\\n",
       "\t29 & 1067444 & 2 & 1 & 1 & 1 & 2 & 1 & 2 & 1 & 1 & benign \\\\\n",
       "\t30 & 1070935 & 1 & 1 & 3 & 1 & 2 & 1 & 1 & 1 & 1 & benign \\\\\n",
       "\t$\\dots$ & $\\dots$ & $\\dots$ & $\\dots$ & $\\dots$ & $\\dots$ & $\\dots$ & $\\dots$ & $\\dots$ & $\\dots$ & $\\dots$ & $\\dots$ \\\\\n",
       "\\end{tabular}\n"
      ],
      "text/plain": [
       "699×11 DataFrame. Omitted printing of 3 columns\n",
       "│ Row │ ID      │ V1    │ V2    │ V3    │ V4    │ V5    │ V6     │ V7    │\n",
       "│     │ \u001b[90mString\u001b[39m  │ \u001b[90mInt32\u001b[39m │ \u001b[90mInt32\u001b[39m │ \u001b[90mInt32\u001b[39m │ \u001b[90mInt32\u001b[39m │ \u001b[90mInt32\u001b[39m │ \u001b[90mInt32⍰\u001b[39m │ \u001b[90mInt32\u001b[39m │\n",
       "├─────┼─────────┼───────┼───────┼───────┼───────┼───────┼────────┼───────┤\n",
       "│ 1   │ 1000025 │ 5     │ 1     │ 1     │ 1     │ 2     │ 1      │ 3     │\n",
       "│ 2   │ 1002945 │ 5     │ 4     │ 4     │ 5     │ 7     │ 10     │ 3     │\n",
       "│ 3   │ 1015425 │ 3     │ 1     │ 1     │ 1     │ 2     │ 2      │ 3     │\n",
       "│ 4   │ 1016277 │ 6     │ 8     │ 8     │ 1     │ 3     │ 4      │ 3     │\n",
       "│ 5   │ 1017023 │ 4     │ 1     │ 1     │ 3     │ 2     │ 1      │ 3     │\n",
       "│ 6   │ 1017122 │ 8     │ 10    │ 10    │ 8     │ 7     │ 10     │ 9     │\n",
       "│ 7   │ 1018099 │ 1     │ 1     │ 1     │ 1     │ 2     │ 10     │ 3     │\n",
       "│ 8   │ 1018561 │ 2     │ 1     │ 2     │ 1     │ 2     │ 1      │ 3     │\n",
       "│ 9   │ 1033078 │ 2     │ 1     │ 1     │ 1     │ 2     │ 1      │ 1     │\n",
       "│ 10  │ 1033078 │ 4     │ 2     │ 1     │ 1     │ 2     │ 1      │ 2     │\n",
       "⋮\n",
       "│ 689 │ 603148  │ 4     │ 1     │ 1     │ 1     │ 2     │ 1      │ 1     │\n",
       "│ 690 │ 654546  │ 1     │ 1     │ 1     │ 1     │ 2     │ 1      │ 1     │\n",
       "│ 691 │ 654546  │ 1     │ 1     │ 1     │ 3     │ 2     │ 1      │ 1     │\n",
       "│ 692 │ 695091  │ 5     │ 10    │ 10    │ 5     │ 4     │ 5      │ 4     │\n",
       "│ 693 │ 714039  │ 3     │ 1     │ 1     │ 1     │ 2     │ 1      │ 1     │\n",
       "│ 694 │ 763235  │ 3     │ 1     │ 1     │ 1     │ 2     │ 1      │ 2     │\n",
       "│ 695 │ 776715  │ 3     │ 1     │ 1     │ 1     │ 3     │ 2      │ 1     │\n",
       "│ 696 │ 841769  │ 2     │ 1     │ 1     │ 1     │ 2     │ 1      │ 1     │\n",
       "│ 697 │ 888820  │ 5     │ 10    │ 10    │ 3     │ 7     │ 3      │ 8     │\n",
       "│ 698 │ 897471  │ 4     │ 8     │ 6     │ 4     │ 3     │ 4      │ 10    │\n",
       "│ 699 │ 897471  │ 4     │ 8     │ 8     │ 5     │ 4     │ 5      │ 10    │"
      ]
     },
     "execution_count": 2,
     "metadata": {},
     "output_type": "execute_result"
    }
   ],
   "source": [
    "biopsy = dataset(\"MASS\", \"biopsy\")"
   ]
  },
  {
   "cell_type": "markdown",
   "metadata": {},
   "source": [
    "## 清除遺失值"
   ]
  },
  {
   "cell_type": "code",
   "execution_count": 3,
   "metadata": {},
   "outputs": [
    {
     "data": {
      "text/html": [
       "<table class=\"data-frame\"><thead><tr><th></th><th>ID</th><th>V1</th><th>V2</th><th>V3</th><th>V4</th><th>V5</th><th>V6</th><th>V7</th><th>V8</th><th>V9</th><th>Class</th></tr><tr><th></th><th>String</th><th>Int32</th><th>Int32</th><th>Int32</th><th>Int32</th><th>Int32</th><th>Int32</th><th>Int32</th><th>Int32</th><th>Int32</th><th>Categorical…</th></tr></thead><tbody><p>683 rows × 11 columns</p><tr><th>1</th><td>1000025</td><td>5</td><td>1</td><td>1</td><td>1</td><td>2</td><td>1</td><td>3</td><td>1</td><td>1</td><td>benign</td></tr><tr><th>2</th><td>1002945</td><td>5</td><td>4</td><td>4</td><td>5</td><td>7</td><td>10</td><td>3</td><td>2</td><td>1</td><td>benign</td></tr><tr><th>3</th><td>1015425</td><td>3</td><td>1</td><td>1</td><td>1</td><td>2</td><td>2</td><td>3</td><td>1</td><td>1</td><td>benign</td></tr><tr><th>4</th><td>1016277</td><td>6</td><td>8</td><td>8</td><td>1</td><td>3</td><td>4</td><td>3</td><td>7</td><td>1</td><td>benign</td></tr><tr><th>5</th><td>1017023</td><td>4</td><td>1</td><td>1</td><td>3</td><td>2</td><td>1</td><td>3</td><td>1</td><td>1</td><td>benign</td></tr><tr><th>6</th><td>1017122</td><td>8</td><td>10</td><td>10</td><td>8</td><td>7</td><td>10</td><td>9</td><td>7</td><td>1</td><td>malignant</td></tr><tr><th>7</th><td>1018099</td><td>1</td><td>1</td><td>1</td><td>1</td><td>2</td><td>10</td><td>3</td><td>1</td><td>1</td><td>benign</td></tr><tr><th>8</th><td>1018561</td><td>2</td><td>1</td><td>2</td><td>1</td><td>2</td><td>1</td><td>3</td><td>1</td><td>1</td><td>benign</td></tr><tr><th>9</th><td>1033078</td><td>2</td><td>1</td><td>1</td><td>1</td><td>2</td><td>1</td><td>1</td><td>1</td><td>5</td><td>benign</td></tr><tr><th>10</th><td>1033078</td><td>4</td><td>2</td><td>1</td><td>1</td><td>2</td><td>1</td><td>2</td><td>1</td><td>1</td><td>benign</td></tr><tr><th>11</th><td>1035283</td><td>1</td><td>1</td><td>1</td><td>1</td><td>1</td><td>1</td><td>3</td><td>1</td><td>1</td><td>benign</td></tr><tr><th>12</th><td>1036172</td><td>2</td><td>1</td><td>1</td><td>1</td><td>2</td><td>1</td><td>2</td><td>1</td><td>1</td><td>benign</td></tr><tr><th>13</th><td>1041801</td><td>5</td><td>3</td><td>3</td><td>3</td><td>2</td><td>3</td><td>4</td><td>4</td><td>1</td><td>malignant</td></tr><tr><th>14</th><td>1043999</td><td>1</td><td>1</td><td>1</td><td>1</td><td>2</td><td>3</td><td>3</td><td>1</td><td>1</td><td>benign</td></tr><tr><th>15</th><td>1044572</td><td>8</td><td>7</td><td>5</td><td>10</td><td>7</td><td>9</td><td>5</td><td>5</td><td>4</td><td>malignant</td></tr><tr><th>16</th><td>1047630</td><td>7</td><td>4</td><td>6</td><td>4</td><td>6</td><td>1</td><td>4</td><td>3</td><td>1</td><td>malignant</td></tr><tr><th>17</th><td>1048672</td><td>4</td><td>1</td><td>1</td><td>1</td><td>2</td><td>1</td><td>2</td><td>1</td><td>1</td><td>benign</td></tr><tr><th>18</th><td>1049815</td><td>4</td><td>1</td><td>1</td><td>1</td><td>2</td><td>1</td><td>3</td><td>1</td><td>1</td><td>benign</td></tr><tr><th>19</th><td>1050670</td><td>10</td><td>7</td><td>7</td><td>6</td><td>4</td><td>10</td><td>4</td><td>1</td><td>2</td><td>malignant</td></tr><tr><th>20</th><td>1050718</td><td>6</td><td>1</td><td>1</td><td>1</td><td>2</td><td>1</td><td>3</td><td>1</td><td>1</td><td>benign</td></tr><tr><th>21</th><td>1054590</td><td>7</td><td>3</td><td>2</td><td>10</td><td>5</td><td>10</td><td>5</td><td>4</td><td>4</td><td>malignant</td></tr><tr><th>22</th><td>1054593</td><td>10</td><td>5</td><td>5</td><td>3</td><td>6</td><td>7</td><td>7</td><td>10</td><td>1</td><td>malignant</td></tr><tr><th>23</th><td>1056784</td><td>3</td><td>1</td><td>1</td><td>1</td><td>2</td><td>1</td><td>2</td><td>1</td><td>1</td><td>benign</td></tr><tr><th>24</th><td>1059552</td><td>1</td><td>1</td><td>1</td><td>1</td><td>2</td><td>1</td><td>3</td><td>1</td><td>1</td><td>benign</td></tr><tr><th>25</th><td>1065726</td><td>5</td><td>2</td><td>3</td><td>4</td><td>2</td><td>7</td><td>3</td><td>6</td><td>1</td><td>malignant</td></tr><tr><th>26</th><td>1066373</td><td>3</td><td>2</td><td>1</td><td>1</td><td>1</td><td>1</td><td>2</td><td>1</td><td>1</td><td>benign</td></tr><tr><th>27</th><td>1066979</td><td>5</td><td>1</td><td>1</td><td>1</td><td>2</td><td>1</td><td>2</td><td>1</td><td>1</td><td>benign</td></tr><tr><th>28</th><td>1067444</td><td>2</td><td>1</td><td>1</td><td>1</td><td>2</td><td>1</td><td>2</td><td>1</td><td>1</td><td>benign</td></tr><tr><th>29</th><td>1070935</td><td>1</td><td>1</td><td>3</td><td>1</td><td>2</td><td>1</td><td>1</td><td>1</td><td>1</td><td>benign</td></tr><tr><th>30</th><td>1070935</td><td>3</td><td>1</td><td>1</td><td>1</td><td>1</td><td>1</td><td>2</td><td>1</td><td>1</td><td>benign</td></tr><tr><th>&vellip;</th><td>&vellip;</td><td>&vellip;</td><td>&vellip;</td><td>&vellip;</td><td>&vellip;</td><td>&vellip;</td><td>&vellip;</td><td>&vellip;</td><td>&vellip;</td><td>&vellip;</td><td>&vellip;</td></tr></tbody></table>"
      ],
      "text/latex": [
       "\\begin{tabular}{r|ccccccccccc}\n",
       "\t& ID & V1 & V2 & V3 & V4 & V5 & V6 & V7 & V8 & V9 & Class\\\\\n",
       "\t\\hline\n",
       "\t& String & Int32 & Int32 & Int32 & Int32 & Int32 & Int32 & Int32 & Int32 & Int32 & Categorical…\\\\\n",
       "\t\\hline\n",
       "\t1 & 1000025 & 5 & 1 & 1 & 1 & 2 & 1 & 3 & 1 & 1 & benign \\\\\n",
       "\t2 & 1002945 & 5 & 4 & 4 & 5 & 7 & 10 & 3 & 2 & 1 & benign \\\\\n",
       "\t3 & 1015425 & 3 & 1 & 1 & 1 & 2 & 2 & 3 & 1 & 1 & benign \\\\\n",
       "\t4 & 1016277 & 6 & 8 & 8 & 1 & 3 & 4 & 3 & 7 & 1 & benign \\\\\n",
       "\t5 & 1017023 & 4 & 1 & 1 & 3 & 2 & 1 & 3 & 1 & 1 & benign \\\\\n",
       "\t6 & 1017122 & 8 & 10 & 10 & 8 & 7 & 10 & 9 & 7 & 1 & malignant \\\\\n",
       "\t7 & 1018099 & 1 & 1 & 1 & 1 & 2 & 10 & 3 & 1 & 1 & benign \\\\\n",
       "\t8 & 1018561 & 2 & 1 & 2 & 1 & 2 & 1 & 3 & 1 & 1 & benign \\\\\n",
       "\t9 & 1033078 & 2 & 1 & 1 & 1 & 2 & 1 & 1 & 1 & 5 & benign \\\\\n",
       "\t10 & 1033078 & 4 & 2 & 1 & 1 & 2 & 1 & 2 & 1 & 1 & benign \\\\\n",
       "\t11 & 1035283 & 1 & 1 & 1 & 1 & 1 & 1 & 3 & 1 & 1 & benign \\\\\n",
       "\t12 & 1036172 & 2 & 1 & 1 & 1 & 2 & 1 & 2 & 1 & 1 & benign \\\\\n",
       "\t13 & 1041801 & 5 & 3 & 3 & 3 & 2 & 3 & 4 & 4 & 1 & malignant \\\\\n",
       "\t14 & 1043999 & 1 & 1 & 1 & 1 & 2 & 3 & 3 & 1 & 1 & benign \\\\\n",
       "\t15 & 1044572 & 8 & 7 & 5 & 10 & 7 & 9 & 5 & 5 & 4 & malignant \\\\\n",
       "\t16 & 1047630 & 7 & 4 & 6 & 4 & 6 & 1 & 4 & 3 & 1 & malignant \\\\\n",
       "\t17 & 1048672 & 4 & 1 & 1 & 1 & 2 & 1 & 2 & 1 & 1 & benign \\\\\n",
       "\t18 & 1049815 & 4 & 1 & 1 & 1 & 2 & 1 & 3 & 1 & 1 & benign \\\\\n",
       "\t19 & 1050670 & 10 & 7 & 7 & 6 & 4 & 10 & 4 & 1 & 2 & malignant \\\\\n",
       "\t20 & 1050718 & 6 & 1 & 1 & 1 & 2 & 1 & 3 & 1 & 1 & benign \\\\\n",
       "\t21 & 1054590 & 7 & 3 & 2 & 10 & 5 & 10 & 5 & 4 & 4 & malignant \\\\\n",
       "\t22 & 1054593 & 10 & 5 & 5 & 3 & 6 & 7 & 7 & 10 & 1 & malignant \\\\\n",
       "\t23 & 1056784 & 3 & 1 & 1 & 1 & 2 & 1 & 2 & 1 & 1 & benign \\\\\n",
       "\t24 & 1059552 & 1 & 1 & 1 & 1 & 2 & 1 & 3 & 1 & 1 & benign \\\\\n",
       "\t25 & 1065726 & 5 & 2 & 3 & 4 & 2 & 7 & 3 & 6 & 1 & malignant \\\\\n",
       "\t26 & 1066373 & 3 & 2 & 1 & 1 & 1 & 1 & 2 & 1 & 1 & benign \\\\\n",
       "\t27 & 1066979 & 5 & 1 & 1 & 1 & 2 & 1 & 2 & 1 & 1 & benign \\\\\n",
       "\t28 & 1067444 & 2 & 1 & 1 & 1 & 2 & 1 & 2 & 1 & 1 & benign \\\\\n",
       "\t29 & 1070935 & 1 & 1 & 3 & 1 & 2 & 1 & 1 & 1 & 1 & benign \\\\\n",
       "\t30 & 1070935 & 3 & 1 & 1 & 1 & 1 & 1 & 2 & 1 & 1 & benign \\\\\n",
       "\t$\\dots$ & $\\dots$ & $\\dots$ & $\\dots$ & $\\dots$ & $\\dots$ & $\\dots$ & $\\dots$ & $\\dots$ & $\\dots$ & $\\dots$ & $\\dots$ \\\\\n",
       "\\end{tabular}\n"
      ],
      "text/plain": [
       "683×11 DataFrame. Omitted printing of 3 columns\n",
       "│ Row │ ID      │ V1    │ V2    │ V3    │ V4    │ V5    │ V6    │ V7    │\n",
       "│     │ \u001b[90mString\u001b[39m  │ \u001b[90mInt32\u001b[39m │ \u001b[90mInt32\u001b[39m │ \u001b[90mInt32\u001b[39m │ \u001b[90mInt32\u001b[39m │ \u001b[90mInt32\u001b[39m │ \u001b[90mInt32\u001b[39m │ \u001b[90mInt32\u001b[39m │\n",
       "├─────┼─────────┼───────┼───────┼───────┼───────┼───────┼───────┼───────┤\n",
       "│ 1   │ 1000025 │ 5     │ 1     │ 1     │ 1     │ 2     │ 1     │ 3     │\n",
       "│ 2   │ 1002945 │ 5     │ 4     │ 4     │ 5     │ 7     │ 10    │ 3     │\n",
       "│ 3   │ 1015425 │ 3     │ 1     │ 1     │ 1     │ 2     │ 2     │ 3     │\n",
       "│ 4   │ 1016277 │ 6     │ 8     │ 8     │ 1     │ 3     │ 4     │ 3     │\n",
       "│ 5   │ 1017023 │ 4     │ 1     │ 1     │ 3     │ 2     │ 1     │ 3     │\n",
       "│ 6   │ 1017122 │ 8     │ 10    │ 10    │ 8     │ 7     │ 10    │ 9     │\n",
       "│ 7   │ 1018099 │ 1     │ 1     │ 1     │ 1     │ 2     │ 10    │ 3     │\n",
       "│ 8   │ 1018561 │ 2     │ 1     │ 2     │ 1     │ 2     │ 1     │ 3     │\n",
       "│ 9   │ 1033078 │ 2     │ 1     │ 1     │ 1     │ 2     │ 1     │ 1     │\n",
       "│ 10  │ 1033078 │ 4     │ 2     │ 1     │ 1     │ 2     │ 1     │ 2     │\n",
       "⋮\n",
       "│ 673 │ 603148  │ 4     │ 1     │ 1     │ 1     │ 2     │ 1     │ 1     │\n",
       "│ 674 │ 654546  │ 1     │ 1     │ 1     │ 1     │ 2     │ 1     │ 1     │\n",
       "│ 675 │ 654546  │ 1     │ 1     │ 1     │ 3     │ 2     │ 1     │ 1     │\n",
       "│ 676 │ 695091  │ 5     │ 10    │ 10    │ 5     │ 4     │ 5     │ 4     │\n",
       "│ 677 │ 714039  │ 3     │ 1     │ 1     │ 1     │ 2     │ 1     │ 1     │\n",
       "│ 678 │ 763235  │ 3     │ 1     │ 1     │ 1     │ 2     │ 1     │ 2     │\n",
       "│ 679 │ 776715  │ 3     │ 1     │ 1     │ 1     │ 3     │ 2     │ 1     │\n",
       "│ 680 │ 841769  │ 2     │ 1     │ 1     │ 1     │ 2     │ 1     │ 1     │\n",
       "│ 681 │ 888820  │ 5     │ 10    │ 10    │ 3     │ 7     │ 3     │ 8     │\n",
       "│ 682 │ 897471  │ 4     │ 8     │ 6     │ 4     │ 3     │ 4     │ 10    │\n",
       "│ 683 │ 897471  │ 4     │ 8     │ 8     │ 5     │ 4     │ 5     │ 10    │"
      ]
     },
     "execution_count": 3,
     "metadata": {},
     "output_type": "execute_result"
    }
   ],
   "source": [
    "biopsy = dropmissing(biopsy)"
   ]
  },
  {
   "cell_type": "markdown",
   "metadata": {},
   "source": [
    "## 訓練與測試資料集"
   ]
  },
  {
   "cell_type": "code",
   "execution_count": 4,
   "metadata": {},
   "outputs": [
    {
     "data": {
      "text/plain": [
       "683-element view(::Array{Int64,1}, [64, 636, 242, 472, 316, 468, 637, 348, 444, 294  …  593, 128, 588, 619, 517, 533, 557, 352, 276, 523]) with eltype Int64:\n",
       "  64\n",
       " 636\n",
       " 242\n",
       " 472\n",
       " 316\n",
       " 468\n",
       " 637\n",
       " 348\n",
       " 444\n",
       " 294\n",
       " 177\n",
       " 166\n",
       " 605\n",
       "   ⋮\n",
       " 365\n",
       " 633\n",
       " 593\n",
       " 128\n",
       " 588\n",
       " 619\n",
       " 517\n",
       " 533\n",
       " 557\n",
       " 352\n",
       " 276\n",
       " 523"
      ]
     },
     "execution_count": 4,
     "metadata": {},
     "output_type": "execute_result"
    }
   ],
   "source": [
    "indecies = MLDataUtils.shuffleobs(collect(1:nrow(biopsy)))"
   ]
  },
  {
   "cell_type": "code",
   "execution_count": 5,
   "metadata": {},
   "outputs": [
    {
     "data": {
      "text/plain": [
       "683-element Array{Int64,1}:\n",
       "   1\n",
       "   2\n",
       "   3\n",
       "   4\n",
       "   5\n",
       "   6\n",
       "   7\n",
       "   8\n",
       "   9\n",
       "  10\n",
       "  11\n",
       "  12\n",
       "  13\n",
       "   ⋮\n",
       " 672\n",
       " 673\n",
       " 674\n",
       " 675\n",
       " 676\n",
       " 677\n",
       " 678\n",
       " 679\n",
       " 680\n",
       " 681\n",
       " 682\n",
       " 683"
      ]
     },
     "execution_count": 5,
     "metadata": {},
     "output_type": "execute_result"
    }
   ],
   "source": [
    "collect(1:nrow(biopsy))"
   ]
  },
  {
   "cell_type": "code",
   "execution_count": 6,
   "metadata": {},
   "outputs": [],
   "source": [
    "train_ind, test_ind = MLDataUtils.splitobs(indecies, at = 0.8);"
   ]
  },
  {
   "cell_type": "code",
   "execution_count": 7,
   "metadata": {},
   "outputs": [
    {
     "data": {
      "text/plain": [
       "683×9 Array{Float64,2}:\n",
       " 5.0   1.0   1.0  1.0  2.0   1.0   3.0   1.0  1.0\n",
       " 5.0   4.0   4.0  5.0  7.0  10.0   3.0   2.0  1.0\n",
       " 3.0   1.0   1.0  1.0  2.0   2.0   3.0   1.0  1.0\n",
       " 6.0   8.0   8.0  1.0  3.0   4.0   3.0   7.0  1.0\n",
       " 4.0   1.0   1.0  3.0  2.0   1.0   3.0   1.0  1.0\n",
       " 8.0  10.0  10.0  8.0  7.0  10.0   9.0   7.0  1.0\n",
       " 1.0   1.0   1.0  1.0  2.0  10.0   3.0   1.0  1.0\n",
       " 2.0   1.0   2.0  1.0  2.0   1.0   3.0   1.0  1.0\n",
       " 2.0   1.0   1.0  1.0  2.0   1.0   1.0   1.0  5.0\n",
       " 4.0   2.0   1.0  1.0  2.0   1.0   2.0   1.0  1.0\n",
       " 1.0   1.0   1.0  1.0  1.0   1.0   3.0   1.0  1.0\n",
       " 2.0   1.0   1.0  1.0  2.0   1.0   2.0   1.0  1.0\n",
       " 5.0   3.0   3.0  3.0  2.0   3.0   4.0   4.0  1.0\n",
       " ⋮                           ⋮                \n",
       " 3.0   1.0   1.0  1.0  2.0   1.0   2.0   3.0  1.0\n",
       " 4.0   1.0   1.0  1.0  2.0   1.0   1.0   1.0  1.0\n",
       " 1.0   1.0   1.0  1.0  2.0   1.0   1.0   1.0  8.0\n",
       " 1.0   1.0   1.0  3.0  2.0   1.0   1.0   1.0  1.0\n",
       " 5.0  10.0  10.0  5.0  4.0   5.0   4.0   4.0  1.0\n",
       " 3.0   1.0   1.0  1.0  2.0   1.0   1.0   1.0  1.0\n",
       " 3.0   1.0   1.0  1.0  2.0   1.0   2.0   1.0  2.0\n",
       " 3.0   1.0   1.0  1.0  3.0   2.0   1.0   1.0  1.0\n",
       " 2.0   1.0   1.0  1.0  2.0   1.0   1.0   1.0  1.0\n",
       " 5.0  10.0  10.0  3.0  7.0   3.0   8.0  10.0  2.0\n",
       " 4.0   8.0   6.0  4.0  3.0   4.0  10.0   6.0  1.0\n",
       " 4.0   8.0   8.0  5.0  4.0   5.0  10.0   4.0  1.0"
      ]
     },
     "execution_count": 7,
     "metadata": {},
     "output_type": "execute_result"
    }
   ],
   "source": [
    "features = Matrix{Float64}(biopsy[!, 2:10])"
   ]
  },
  {
   "cell_type": "code",
   "execution_count": 8,
   "metadata": {},
   "outputs": [
    {
     "data": {
      "text/plain": [
       "683-element Array{String,1}:\n",
       " \"benign\"\n",
       " \"benign\"\n",
       " \"benign\"\n",
       " \"benign\"\n",
       " \"benign\"\n",
       " \"malignant\"\n",
       " \"benign\"\n",
       " \"benign\"\n",
       " \"benign\"\n",
       " \"benign\"\n",
       " \"benign\"\n",
       " \"benign\"\n",
       " \"malignant\"\n",
       " ⋮\n",
       " \"benign\"\n",
       " \"benign\"\n",
       " \"benign\"\n",
       " \"benign\"\n",
       " \"malignant\"\n",
       " \"benign\"\n",
       " \"benign\"\n",
       " \"benign\"\n",
       " \"benign\"\n",
       " \"malignant\"\n",
       " \"malignant\"\n",
       " \"malignant\""
      ]
     },
     "execution_count": 8,
     "metadata": {},
     "output_type": "execute_result"
    }
   ],
   "source": [
    "labels = Vector{String}(biopsy[!, :Class])"
   ]
  },
  {
   "cell_type": "markdown",
   "metadata": {},
   "source": [
    "## 隨機森林模型"
   ]
  },
  {
   "cell_type": "code",
   "execution_count": 9,
   "metadata": {},
   "outputs": [
    {
     "data": {
      "text/plain": [
       "RandomForestClassifier\n",
       "n_trees:             500\n",
       "n_subfeatures:       -1\n",
       "partial_sampling:    0.7\n",
       "max_depth:           9\n",
       "min_samples_leaf:    1\n",
       "min_samples_split:   2\n",
       "min_purity_increase: 0.0\n",
       "classes:             nothing\n",
       "ensemble:            nothing"
      ]
     },
     "execution_count": 9,
     "metadata": {},
     "output_type": "execute_result"
    }
   ],
   "source": [
    "# 需要知道如何評估參數\n",
    "model = DecisionTree.RandomForestClassifier(n_trees=500, max_depth=9)"
   ]
  },
  {
   "cell_type": "markdown",
   "metadata": {},
   "source": [
    "## 訓練"
   ]
  },
  {
   "cell_type": "code",
   "execution_count": 10,
   "metadata": {},
   "outputs": [
    {
     "data": {
      "text/plain": [
       "RandomForestClassifier\n",
       "n_trees:             500\n",
       "n_subfeatures:       -1\n",
       "partial_sampling:    0.7\n",
       "max_depth:           9\n",
       "min_samples_leaf:    1\n",
       "min_samples_split:   2\n",
       "min_purity_increase: 0.0\n",
       "classes:             [\"benign\", \"malignant\"]\n",
       "ensemble:            Ensemble of Decision Trees\n",
       "Trees:      500\n",
       "Avg Leaves: 17.824\n",
       "Avg Depth:  7.616"
      ]
     },
     "execution_count": 10,
     "metadata": {},
     "output_type": "execute_result"
    }
   ],
   "source": [
    "DecisionTree.fit!(model, features[train_ind, :], labels[train_ind])"
   ]
  },
  {
   "cell_type": "markdown",
   "metadata": {},
   "source": [
    "## 預測"
   ]
  },
  {
   "cell_type": "code",
   "execution_count": 11,
   "metadata": {},
   "outputs": [
    {
     "data": {
      "text/plain": [
       "137-element Array{String,1}:\n",
       " \"malignant\"\n",
       " \"benign\"\n",
       " \"benign\"\n",
       " \"malignant\"\n",
       " \"benign\"\n",
       " \"malignant\"\n",
       " \"malignant\"\n",
       " \"benign\"\n",
       " \"benign\"\n",
       " \"malignant\"\n",
       " \"malignant\"\n",
       " \"benign\"\n",
       " \"benign\"\n",
       " ⋮\n",
       " \"benign\"\n",
       " \"malignant\"\n",
       " \"benign\"\n",
       " \"benign\"\n",
       " \"benign\"\n",
       " \"benign\"\n",
       " \"benign\"\n",
       " \"benign\"\n",
       " \"malignant\"\n",
       " \"benign\"\n",
       " \"malignant\"\n",
       " \"benign\""
      ]
     },
     "execution_count": 11,
     "metadata": {},
     "output_type": "execute_result"
    }
   ],
   "source": [
    "ŷ = DecisionTree.predict(model, features[test_ind, :])"
   ]
  },
  {
   "cell_type": "markdown",
   "metadata": {},
   "source": [
    "## 評估模型"
   ]
  },
  {
   "cell_type": "code",
   "execution_count": 12,
   "metadata": {},
   "outputs": [
    {
     "data": {
      "text/plain": [
       "accuracy (generic function with 1 method)"
      ]
     },
     "execution_count": 12,
     "metadata": {},
     "output_type": "execute_result"
    }
   ],
   "source": [
    "accuracy(xs, ys) = mean(xs .== ys)"
   ]
  },
  {
   "cell_type": "code",
   "execution_count": 13,
   "metadata": {},
   "outputs": [
    {
     "data": {
      "text/plain": [
       "0.9708029197080292"
      ]
     },
     "execution_count": 13,
     "metadata": {},
     "output_type": "execute_result"
    }
   ],
   "source": [
    "accuracy(ŷ, labels[test_ind])"
   ]
  },
  {
   "cell_type": "markdown",
   "metadata": {},
   "source": [
    "↑ 這還真的有誤差..."
   ]
  }
 ],
 "metadata": {
  "kernelspec": {
   "display_name": "Julia 1.4.0",
   "language": "julia",
   "name": "julia-1.4"
  },
  "language_info": {
   "file_extension": ".jl",
   "mimetype": "application/julia",
   "name": "julia",
   "version": "1.4.2"
  }
 },
 "nbformat": 4,
 "nbformat_minor": 4
}
