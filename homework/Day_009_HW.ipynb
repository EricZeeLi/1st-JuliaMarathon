{
 "cells": [
  {
   "cell_type": "markdown",
   "metadata": {},
   "source": [
    "# 陣列 (Array)\n",
    "\n",
    "## Day 009 作業：比較不同的內建排序演算法\n",
    "\n",
    "除了範例程式示範的 QuickSort 之外，Julia 也內建支援幾種不同的排序演算法：\n",
    "\n",
    "- InsertionSort\n",
    "- PartialQuickSort(k)\n",
    "- MergeSort\n",
    "\n",
    "1. 請閱讀官方文件及範例 [Sorting-Algorithms](https://docs.julialang.org/en/v1/base/sort/#Sorting-Algorithms-1)\n",
    "\n",
    "2. 撰寫程式隨機產生 100000 個 200 到 500 之間的數字來建立陣列，執行不同排序方法，來比較不同排序方法的速度。\n",
    "\n",
    "**[提示]** 排序執行所需時間可以用巨集 `@time` 或 `@elapsed` 來取得。"
   ]
  },
  {
   "cell_type": "code",
   "execution_count": 1,
   "metadata": {},
   "outputs": [
    {
     "data": {
      "text/plain": [
       "100000-element Array{Int64,1}:\n",
       " 278\n",
       " 313\n",
       " 434\n",
       " 449\n",
       " 450\n",
       " 298\n",
       " 229\n",
       " 488\n",
       " 333\n",
       " 210\n",
       " 393\n",
       " 243\n",
       " 332\n",
       "   ⋮\n",
       " 382\n",
       " 274\n",
       " 464\n",
       " 404\n",
       " 246\n",
       " 493\n",
       " 428\n",
       " 290\n",
       " 368\n",
       " 465\n",
       " 373\n",
       " 363"
      ]
     },
     "execution_count": 1,
     "metadata": {},
     "output_type": "execute_result"
    }
   ],
   "source": [
    "# 產生 100000 個 200 到 500 之間的數字的陣列\n",
    "x = rand(200:500, 100000) # 請將註解取代為程式碼"
   ]
  },
  {
   "cell_type": "markdown",
   "metadata": {},
   "source": [
    "## Insertion Sort"
   ]
  },
  {
   "cell_type": "code",
   "execution_count": 2,
   "metadata": {},
   "outputs": [
    {
     "data": {
      "text/plain": [
       "10-element Array{Float64,1}:\n",
       " 0.000599998\n",
       " 0.000602605\n",
       " 0.000610914\n",
       " 0.000632276\n",
       " 0.000637172\n",
       " 0.00064368\n",
       " 0.00080314\n",
       " 0.000942981\n",
       " 0.00786892\n",
       " 0.043477604"
      ]
     },
     "execution_count": 2,
     "metadata": {},
     "output_type": "execute_result"
    }
   ],
   "source": [
    "ist=Vector{Float64}(undef, 10)\n",
    "for i ∈ 1:10\n",
    "    ist[i]=@elapsed sort(x; alg=InsertionSort)\n",
    "end\n",
    "\n",
    "sort!(ist)"
   ]
  },
  {
   "cell_type": "markdown",
   "metadata": {},
   "source": [
    "## Merge Sort"
   ]
  },
  {
   "cell_type": "code",
   "execution_count": 3,
   "metadata": {},
   "outputs": [
    {
     "data": {
      "text/plain": [
       "10-element Array{Float64,1}:\n",
       " 0.000225255\n",
       " 0.000247159\n",
       " 0.000291024\n",
       " 0.000292697\n",
       " 0.000379839\n",
       " 0.000380547\n",
       " 0.000683951\n",
       " 0.0007116\n",
       " 0.000844599\n",
       " 0.104351003"
      ]
     },
     "execution_count": 3,
     "metadata": {},
     "output_type": "execute_result"
    }
   ],
   "source": [
    "mst=Vector{Float64}(undef, 10)\n",
    "for i ∈ 1:10\n",
    "    mst[i]=@elapsed sort(x; alg=MergeSort)\n",
    "end\n",
    "\n",
    "sort!(mst)"
   ]
  },
  {
   "cell_type": "markdown",
   "metadata": {},
   "source": [
    "## Partial Quick Sort"
   ]
  },
  {
   "cell_type": "code",
   "execution_count": 4,
   "metadata": {},
   "outputs": [
    {
     "data": {
      "text/plain": [
       "10-element Array{Float64,1}:\n",
       " 0.000631689\n",
       " 0.000692952\n",
       " 0.000850761\n",
       " 0.000864863\n",
       " 0.000870853\n",
       " 0.001023812\n",
       " 0.00122716\n",
       " 0.001677056\n",
       " 0.003240692\n",
       " 0.085417337"
      ]
     },
     "execution_count": 4,
     "metadata": {},
     "output_type": "execute_result"
    }
   ],
   "source": [
    "pst=Vector{Float64}(undef, 10)\n",
    "for i ∈ 1:10\n",
    "    pst[i]=@elapsed sort(x; alg=PartialQuickSort(1))\n",
    "end\n",
    "\n",
    "sort!(pst)"
   ]
  },
  {
   "cell_type": "markdown",
   "metadata": {},
   "source": [
    "## QuickSort"
   ]
  },
  {
   "cell_type": "code",
   "execution_count": 5,
   "metadata": {},
   "outputs": [
    {
     "data": {
      "text/plain": [
       "10-element Array{Float64,1}:\n",
       " 0.000645636\n",
       " 0.000660162\n",
       " 0.000675427\n",
       " 0.000703313\n",
       " 0.000708675\n",
       " 0.000756527\n",
       " 0.000997288\n",
       " 0.001021327\n",
       " 0.001219937\n",
       " 0.021409615"
      ]
     },
     "execution_count": 5,
     "metadata": {},
     "output_type": "execute_result"
    }
   ],
   "source": [
    "qst=Vector{Float64}(undef, 10)\n",
    "for i ∈ 1:10\n",
    "    qst[i]=@elapsed sort(x; alg=QuickSort)\n",
    "end\n",
    "\n",
    "sort!(qst)"
   ]
  },
  {
   "cell_type": "markdown",
   "metadata": {},
   "source": [
    "## 請問哪一種排序方法的效能最好？"
   ]
  },
  {
   "cell_type": "markdown",
   "metadata": {},
   "source": [
    "## 答案：不穩定"
   ]
  },
  {
   "cell_type": "code",
   "execution_count": 6,
   "metadata": {},
   "outputs": [
    {
     "data": {
      "text/plain": [
       "4-element Array{Array{Float64,1},1}:\n",
       " [0.000225255, 0.000247159, 0.000291024, 0.000292697, 0.000379839, 0.000380547, 0.000683951, 0.0007116, 0.000844599, 0.104351003]\n",
       " [0.000599998, 0.000602605, 0.000610914, 0.000632276, 0.000637172, 0.00064368, 0.00080314, 0.000942981, 0.00786892, 0.043477604]\n",
       " [0.000631689, 0.000692952, 0.000850761, 0.000864863, 0.000870853, 0.001023812, 0.00122716, 0.001677056, 0.003240692, 0.085417337]\n",
       " [0.000645636, 0.000660162, 0.000675427, 0.000703313, 0.000708675, 0.000756527, 0.000997288, 0.001021327, 0.001219937, 0.021409615]"
      ]
     },
     "execution_count": 6,
     "metadata": {},
     "output_type": "execute_result"
    }
   ],
   "source": [
    "sort([ist, mst, pst, qst])"
   ]
  },
  {
   "cell_type": "code",
   "execution_count": 7,
   "metadata": {},
   "outputs": [
    {
     "name": "stdout",
     "output_type": "stream",
     "text": [
      "run, ist, mst, pst, qst,\n",
      "  1,   4,   3,   1,   2, \n",
      "  2,   4,   3,   1,   2, \n",
      "  3,   4,   3,   2,   1, \n",
      "  4,   4,   3,   1,   2, \n",
      "  5,   3,   4,   2,   1, \n",
      "  6,   3,   4,   1,   2, \n",
      "  7,   3,   4,   1,   2, \n",
      "  8,   4,   3,   2,   1, \n",
      "  9,   3,   4,   1,   2, \n",
      " 10,   3,   4,   2,   1, \n"
     ]
    }
   ],
   "source": [
    "m = 10   # number of runs\n",
    "n = 1000 # number of sorts\n",
    "k = 100  # k value for Partial Quick Sort\n",
    "\n",
    "println(\"run, ist, mst, pst, qst,\")\n",
    "\n",
    "for i ∈ 1:m\n",
    "    \n",
    "    x = rand(200:500, 100000)\n",
    "    \n",
    "    ist=Vector{Float64}(undef, n)\n",
    "    mst=Vector{Float64}(undef, n)\n",
    "    pst=Vector{Float64}(undef, n)\n",
    "    qst=Vector{Float64}(undef, n)\n",
    "    for j ∈ 1:n\n",
    "        ist[j]=@elapsed sort(x; alg=InsertionSort)\n",
    "        mst[j]=@elapsed sort(x; alg=MergeSort)\n",
    "        pst[i]=@elapsed sort(x; alg=PartialQuickSort(k))\n",
    "        qst[i]=@elapsed sort(x; alg=QuickSort)\n",
    "    end\n",
    "    sort!(ist)\n",
    "    sort!(mst)\n",
    "    sort!(pst)\n",
    "    sort!(qst)\n",
    "    \n",
    "    sst=sort([ist, mst, pst, qst])\n",
    "    print(\"$(lpad(string(i), 3)), \")\n",
    "    for k ∈ [ist, mst, pst, qst]\n",
    "        print(\"  $(searchsortedfirst(sst, k)), \")\n",
    "    end\n",
    "    println()\n",
    "end"
   ]
  }
 ],
 "metadata": {
  "kernelspec": {
   "display_name": "Julia 1.4.0",
   "language": "julia",
   "name": "julia-1.4"
  },
  "language_info": {
   "file_extension": ".jl",
   "mimetype": "application/julia",
   "name": "julia",
   "version": "1.4.0"
  }
 },
 "nbformat": 4,
 "nbformat_minor": 4
}
