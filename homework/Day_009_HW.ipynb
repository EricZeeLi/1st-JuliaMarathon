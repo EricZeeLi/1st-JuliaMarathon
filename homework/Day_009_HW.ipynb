{
 "cells": [
  {
   "cell_type": "markdown",
   "metadata": {},
   "source": [
    "# 陣列 (Array)\n",
    "\n",
    "## Day 009 作業：比較不同的內建排序演算法\n",
    "\n",
    "除了範例程式示範的 QuickSort 之外，Julia 也內建支援幾種不同的排序演算法：\n",
    "\n",
    "- InsertionSort\n",
    "- PartialQuickSort(k)\n",
    "- MergeSort\n",
    "\n",
    "1. 請閱讀官方文件及範例 [Sorting-Algorithms](https://docs.julialang.org/en/v1/base/sort/#Sorting-Algorithms-1)\n",
    "\n",
    "2. 撰寫程式隨機產生 100000 個 200 到 500 之間的數字來建立陣列，執行不同排序方法，來比較不同排序方法的速度。\n",
    "\n",
    "**[提示]** 排序執行所需時間可以用巨集 `@time` 或 `@elapsed` 來取得。"
   ]
  },
  {
   "cell_type": "code",
   "execution_count": 1,
   "metadata": {},
   "outputs": [
    {
     "data": {
      "text/plain": [
       "100000-element Array{Int64,1}:\n",
       " 424\n",
       " 210\n",
       " 203\n",
       " 491\n",
       " 496\n",
       " 236\n",
       " 357\n",
       " 249\n",
       " 296\n",
       " 373\n",
       " 329\n",
       " 345\n",
       " 472\n",
       "   ⋮\n",
       " 311\n",
       " 445\n",
       " 282\n",
       " 230\n",
       " 369\n",
       " 215\n",
       " 384\n",
       " 469\n",
       " 472\n",
       " 479\n",
       " 250\n",
       " 207"
      ]
     },
     "execution_count": 1,
     "metadata": {},
     "output_type": "execute_result"
    }
   ],
   "source": [
    "# 產生 100000 個 200 到 500 之間的數字的陣列\n",
    "x = rand(200:500, 100000) # 請將註解取代為程式碼"
   ]
  },
  {
   "cell_type": "markdown",
   "metadata": {},
   "source": [
    "## Insertion Sort"
   ]
  },
  {
   "cell_type": "code",
   "execution_count": 2,
   "metadata": {},
   "outputs": [
    {
     "data": {
      "text/plain": [
       "10-element Array{Float64,1}:\n",
       " 0.000656105\n",
       " 0.000659125\n",
       " 0.000660062\n",
       " 0.000670263\n",
       " 0.000672641\n",
       " 0.000688937\n",
       " 0.000690746\n",
       " 0.00073075\n",
       " 0.009459931\n",
       " 0.030943758"
      ]
     },
     "execution_count": 2,
     "metadata": {},
     "output_type": "execute_result"
    }
   ],
   "source": [
    "ist=Vector{Float64}(undef, 10)\n",
    "for i ∈ 1:10\n",
    "    ist[i]=@elapsed sort(x; alg=InsertionSort)\n",
    "end\n",
    "\n",
    "sort!(ist)"
   ]
  },
  {
   "cell_type": "markdown",
   "metadata": {},
   "source": [
    "## Merge Sort"
   ]
  },
  {
   "cell_type": "code",
   "execution_count": 3,
   "metadata": {},
   "outputs": [
    {
     "data": {
      "text/plain": [
       "10-element Array{Float64,1}:\n",
       " 0.000190881\n",
       " 0.000192893\n",
       " 0.00020705\n",
       " 0.000231102\n",
       " 0.000245121\n",
       " 0.000253253\n",
       " 0.000683191\n",
       " 0.000698429\n",
       " 0.000756829\n",
       " 0.088991378"
      ]
     },
     "execution_count": 3,
     "metadata": {},
     "output_type": "execute_result"
    }
   ],
   "source": [
    "mst=Vector{Float64}(undef, 10)\n",
    "for i ∈ 1:10\n",
    "    mst[i]=@elapsed sort(x; alg=MergeSort)\n",
    "end\n",
    "\n",
    "sort!(mst)"
   ]
  },
  {
   "cell_type": "markdown",
   "metadata": {},
   "source": [
    "## Partial Quick Sort"
   ]
  },
  {
   "cell_type": "code",
   "execution_count": 4,
   "metadata": {},
   "outputs": [
    {
     "data": {
      "text/plain": [
       "10-element Array{Float64,1}:\n",
       " 0.000634778\n",
       " 0.000665737\n",
       " 0.000672746\n",
       " 0.000691951\n",
       " 0.000789129\n",
       " 0.000828817\n",
       " 0.00084417\n",
       " 0.000901156\n",
       " 0.000902518\n",
       " 0.083393353"
      ]
     },
     "execution_count": 4,
     "metadata": {},
     "output_type": "execute_result"
    }
   ],
   "source": [
    "pst=Vector{Float64}(undef, 10)\n",
    "for i ∈ 1:10\n",
    "    pst[i]=@elapsed sort(x; alg=PartialQuickSort(1))\n",
    "end\n",
    "\n",
    "sort!(pst)"
   ]
  },
  {
   "cell_type": "markdown",
   "metadata": {},
   "source": [
    "## QuickSort"
   ]
  },
  {
   "cell_type": "code",
   "execution_count": 5,
   "metadata": {},
   "outputs": [
    {
     "data": {
      "text/plain": [
       "10-element Array{Float64,1}:\n",
       " 0.000624812\n",
       " 0.000638705\n",
       " 0.000715146\n",
       " 0.0007235\n",
       " 0.000749778\n",
       " 0.000802592\n",
       " 0.00081374\n",
       " 0.000817394\n",
       " 0.000823181\n",
       " 0.016071581"
      ]
     },
     "execution_count": 5,
     "metadata": {},
     "output_type": "execute_result"
    }
   ],
   "source": [
    "qst=Vector{Float64}(undef, 10)\n",
    "for i ∈ 1:10\n",
    "    qst[i]=@elapsed sort(x; alg=QuickSort)\n",
    "end\n",
    "\n",
    "sort!(qst)"
   ]
  },
  {
   "cell_type": "markdown",
   "metadata": {},
   "source": [
    "## 請問哪一種排序方法的效能最好？"
   ]
  },
  {
   "cell_type": "markdown",
   "metadata": {},
   "source": [
    "## 答案：不穩定"
   ]
  },
  {
   "cell_type": "code",
   "execution_count": 6,
   "metadata": {},
   "outputs": [
    {
     "data": {
      "text/plain": [
       "4-element Array{Array{Float64,1},1}:\n",
       " [0.000190881, 0.000192893, 0.00020705, 0.000231102, 0.000245121, 0.000253253, 0.000683191, 0.000698429, 0.000756829, 0.088991378]\n",
       " [0.000624812, 0.000638705, 0.000715146, 0.0007235, 0.000749778, 0.000802592, 0.00081374, 0.000817394, 0.000823181, 0.016071581]\n",
       " [0.000634778, 0.000665737, 0.000672746, 0.000691951, 0.000789129, 0.000828817, 0.00084417, 0.000901156, 0.000902518, 0.083393353]\n",
       " [0.000656105, 0.000659125, 0.000660062, 0.000670263, 0.000672641, 0.000688937, 0.000690746, 0.00073075, 0.009459931, 0.030943758]"
      ]
     },
     "execution_count": 6,
     "metadata": {},
     "output_type": "execute_result"
    }
   ],
   "source": [
    "sort([ist, mst, pst, qst])"
   ]
  },
  {
   "cell_type": "code",
   "execution_count": 7,
   "metadata": {},
   "outputs": [
    {
     "name": "stdout",
     "output_type": "stream",
     "text": [
      "run, ist, mst, pst, qst,\n",
      "  1,   4,   3,   2,   1, \n",
      "  2,   4,   3,   1,   2, \n",
      "  3,   3,   4,   2,   1, \n",
      "  4,   4,   3,   2,   1, \n",
      "  5,   3,   4,   2,   1, \n",
      "  6,   4,   3,   2,   1, \n",
      "  7,   3,   4,   2,   1, \n",
      "  8,   4,   3,   2,   1, \n",
      "  9,   3,   4,   1,   2, \n",
      " 10,   3,   4,   1,   2, \n"
     ]
    }
   ],
   "source": [
    "m = 10   # number of runs\n",
    "n = 1000 # number of sorts\n",
    "o = 100  # k value for Partial Quick Sort\n",
    "\n",
    "println(\"run, ist, mst, pst, qst,\")\n",
    "\n",
    "for i ∈ 1:m\n",
    "    \n",
    "    x = rand(200:500, 100000)\n",
    "    \n",
    "    ist=Vector{Float64}(undef, n)\n",
    "    mst=Vector{Float64}(undef, n)\n",
    "    pst=Vector{Float64}(undef, n)\n",
    "    qst=Vector{Float64}(undef, n)\n",
    "    for j ∈ 1:n\n",
    "        ist[j]=@elapsed sort(x; alg=InsertionSort)\n",
    "        mst[j]=@elapsed sort(x; alg=MergeSort)\n",
    "        pst[i]=@elapsed sort(x; alg=PartialQuickSort(o))\n",
    "        qst[i]=@elapsed sort(x; alg=QuickSort)\n",
    "    end\n",
    "    sort!(ist)\n",
    "    sort!(mst)\n",
    "    sort!(pst)\n",
    "    sort!(qst)\n",
    "    \n",
    "    sst=sort([ist, mst, pst, qst])\n",
    "    print(\"$(lpad(string(i), 3)), \")\n",
    "    for k ∈ [ist, mst, pst, qst]\n",
    "        print(\"  $(searchsortedfirst(sst, k)), \")\n",
    "    end\n",
    "    println()\n",
    "end"
   ]
  }
 ],
 "metadata": {
  "kernelspec": {
   "display_name": "Julia 1.4.0",
   "language": "julia",
   "name": "julia-1.4"
  },
  "language_info": {
   "file_extension": ".jl",
   "mimetype": "application/julia",
   "name": "julia",
   "version": "1.4.0"
  }
 },
 "nbformat": 4,
 "nbformat_minor": 4
}
