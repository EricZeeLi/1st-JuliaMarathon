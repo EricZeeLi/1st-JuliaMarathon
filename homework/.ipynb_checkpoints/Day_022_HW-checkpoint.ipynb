{
 "cells": [
  {
   "cell_type": "markdown",
   "metadata": {},
   "source": [
    "# Julia 基礎圖表繪製：Gadfly 二維資料圖表\n",
    "\n",
    "## 作業 022"
   ]
  },
  {
   "cell_type": "markdown",
   "metadata": {},
   "source": [
    "1. 散佈圖是二維資料的圖表表示，思考它適合用於展現資料的什麼特性？"
   ]
  },
  {
   "cell_type": "markdown",
   "metadata": {},
   "source": [
    "2. 比較密度分佈圖與熱圖分別適合用於什麼樣的資料。[hint: 從資料的種類切入思考]"
   ]
  },
  {
   "cell_type": "markdown",
   "metadata": {},
   "source": [
    "## 答案\n",
    "\n",
    "### 1.\n",
    "- 散佈圖（scatter plot）可以呈現兩個連續型變數的關聯性。\n",
    "\n",
    "### 2.\n",
    "- 密度分佈圖呈現兩個連續型變數之間的資料密度分佈。\n",
    "- 熱圖（heatmap）則可以觀察兩個離散型變數之間，類別的關聯性。"
   ]
  }
 ],
 "metadata": {
  "kernelspec": {
   "display_name": "Julia 1.4.0",
   "language": "julia",
   "name": "julia-1.4"
  },
  "language_info": {
   "file_extension": ".jl",
   "mimetype": "application/julia",
   "name": "julia",
   "version": "1.4.0"
  }
 },
 "nbformat": 4,
 "nbformat_minor": 4
}
