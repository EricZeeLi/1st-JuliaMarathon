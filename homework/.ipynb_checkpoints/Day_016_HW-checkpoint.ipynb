{
 "cells": [
  {
   "cell_type": "markdown",
   "metadata": {
    "colab_type": "text",
    "id": "4r1AJmwCVGZU"
   },
   "source": [
    "# Julia Multiple Dispatch (多重分派)"
   ]
  },
  {
   "cell_type": "code",
   "execution_count": 1,
   "metadata": {
    "colab": {},
    "colab_type": "code",
    "id": "_22TtC11VGa5",
    "outputId": "6a24d187-69cf-45aa-8ef5-4fe43d2c7533"
   },
   "outputs": [
    {
     "data": {
      "text/html": [
       "# 16 methods for generic function <b>&</b>:<ul><li> &(b::<b>Bool</b>, a::<b>Missing</b>) in Base at <a href=\"https://github.com/JuliaLang/julia/tree/b8e9a9ecc62ab49003bd4f1834771bdeb8cb1aa2/base/missing.jl#L160\" target=\"_blank\">missing.jl:160</a></li> <li> &(x::<b>Bool</b>, y::<b>Bool</b>) in Base at <a href=\"https://github.com/JuliaLang/julia/tree/b8e9a9ecc62ab49003bd4f1834771bdeb8cb1aa2/base/bool.jl#L40\" target=\"_blank\">bool.jl:40</a></li> <li> &(a::<b>Missing</b>, b::<b>Bool</b>) in Base at <a href=\"https://github.com/JuliaLang/julia/tree/b8e9a9ecc62ab49003bd4f1834771bdeb8cb1aa2/base/missing.jl#L159\" target=\"_blank\">missing.jl:159</a></li> <li> &(::<b>Missing</b>, ::<b>Missing</b>) in Base at <a href=\"https://github.com/JuliaLang/julia/tree/b8e9a9ecc62ab49003bd4f1834771bdeb8cb1aa2/base/missing.jl#L158\" target=\"_blank\">missing.jl:158</a></li> <li> &(::<b>Missing</b>, ::<b>Integer</b>) in Base at <a href=\"https://github.com/JuliaLang/julia/tree/b8e9a9ecc62ab49003bd4f1834771bdeb8cb1aa2/base/missing.jl#L161\" target=\"_blank\">missing.jl:161</a></li> <li> &(a::<b>BigInt</b>, b::<b>BigInt</b>, c::<b>BigInt</b>, d::<b>BigInt</b>, e::<b>BigInt</b>) in Base.GMP at <a href=\"https://github.com/JuliaLang/julia/tree/b8e9a9ecc62ab49003bd4f1834771bdeb8cb1aa2/base/gmp.jl#L515\" target=\"_blank\">gmp.jl:515</a></li> <li> &(a::<b>BigInt</b>, b::<b>BigInt</b>, c::<b>BigInt</b>, d::<b>BigInt</b>) in Base.GMP at <a href=\"https://github.com/JuliaLang/julia/tree/b8e9a9ecc62ab49003bd4f1834771bdeb8cb1aa2/base/gmp.jl#L514\" target=\"_blank\">gmp.jl:514</a></li> <li> &(a::<b>BigInt</b>, b::<b>BigInt</b>, c::<b>BigInt</b>) in Base.GMP at <a href=\"https://github.com/JuliaLang/julia/tree/b8e9a9ecc62ab49003bd4f1834771bdeb8cb1aa2/base/gmp.jl#L513\" target=\"_blank\">gmp.jl:513</a></li> <li> &(x::<b>BigInt</b>, y::<b>BigInt</b>) in Base.GMP at <a href=\"https://github.com/JuliaLang/julia/tree/b8e9a9ecc62ab49003bd4f1834771bdeb8cb1aa2/base/gmp.jl#L473\" target=\"_blank\">gmp.jl:473</a></li> <li> &(x::<b>T</b>, y::<b>T</b>)<i> where T<:Union{Int128, Int16, Int32, Int64, Int8, UInt128, UInt16, UInt32, UInt64, UInt8}</i> in Base at <a href=\"https://github.com/JuliaLang/julia/tree/b8e9a9ecc62ab49003bd4f1834771bdeb8cb1aa2/base/int.jl#L277\" target=\"_blank\">int.jl:277</a></li> <li> &(x::<b>Integer</b>) in Base at <a href=\"https://github.com/JuliaLang/julia/tree/b8e9a9ecc62ab49003bd4f1834771bdeb8cb1aa2/base/operators.jl#L506\" target=\"_blank\">operators.jl:506</a></li> <li> &(x::<b>T</b>, y::<b>T</b>)<i> where T<:Integer</i> in Base at <a href=\"https://github.com/JuliaLang/julia/tree/b8e9a9ecc62ab49003bd4f1834771bdeb8cb1aa2/base/promotion.jl#L394\" target=\"_blank\">promotion.jl:394</a></li> <li> &(a::<b>Integer</b>, b::<b>Integer</b>) in Base at <a href=\"https://github.com/JuliaLang/julia/tree/b8e9a9ecc62ab49003bd4f1834771bdeb8cb1aa2/base/int.jl#L857\" target=\"_blank\">int.jl:857</a></li> <li> &(::<b>Integer</b>, ::<b>Missing</b>) in Base at <a href=\"https://github.com/JuliaLang/julia/tree/b8e9a9ecc62ab49003bd4f1834771bdeb8cb1aa2/base/missing.jl#L162\" target=\"_blank\">missing.jl:162</a></li> <li> &(left::<b>Base.AbstractCmd</b>, right::<b>Base.AbstractCmd</b>) in Base at <a href=\"https://github.com/JuliaLang/julia/tree/b8e9a9ecc62ab49003bd4f1834771bdeb8cb1aa2/base/cmd.jl#L245\" target=\"_blank\">cmd.jl:245</a></li> <li> &(a, b, c, xs...) in Base at <a href=\"https://github.com/JuliaLang/julia/tree/b8e9a9ecc62ab49003bd4f1834771bdeb8cb1aa2/base/operators.jl#L529\" target=\"_blank\">operators.jl:529</a></li> </ul>"
      ],
      "text/plain": [
       "# 16 methods for generic function \"&\":\n",
       "[1] &(b::Bool, a::Missing) in Base at missing.jl:160\n",
       "[2] &(x::Bool, y::Bool) in Base at bool.jl:40\n",
       "[3] &(a::Missing, b::Bool) in Base at missing.jl:159\n",
       "[4] &(::Missing, ::Missing) in Base at missing.jl:158\n",
       "[5] &(::Missing, ::Integer) in Base at missing.jl:161\n",
       "[6] &(a::BigInt, b::BigInt, c::BigInt, d::BigInt, e::BigInt) in Base.GMP at gmp.jl:515\n",
       "[7] &(a::BigInt, b::BigInt, c::BigInt, d::BigInt) in Base.GMP at gmp.jl:514\n",
       "[8] &(a::BigInt, b::BigInt, c::BigInt) in Base.GMP at gmp.jl:513\n",
       "[9] &(x::BigInt, y::BigInt) in Base.GMP at gmp.jl:473\n",
       "[10] &(x::T, y::T) where T<:Union{Int128, Int16, Int32, Int64, Int8, UInt128, UInt16, UInt32, UInt64, UInt8} in Base at int.jl:277\n",
       "[11] &(x::Integer) in Base at operators.jl:506\n",
       "[12] &(x::T, y::T) where T<:Integer in Base at promotion.jl:394\n",
       "[13] &(a::Integer, b::Integer) in Base at int.jl:857\n",
       "[14] &(::Integer, ::Missing) in Base at missing.jl:162\n",
       "[15] &(left::Base.AbstractCmd, right::Base.AbstractCmd) in Base at cmd.jl:245\n",
       "[16] &(a, b, c, xs...) in Base at operators.jl:529"
      ]
     },
     "execution_count": 1,
     "metadata": {},
     "output_type": "execute_result"
    }
   ],
   "source": [
    "methods(&)"
   ]
  },
  {
   "cell_type": "code",
   "execution_count": 2,
   "metadata": {},
   "outputs": [
    {
     "ename": "ErrorException",
     "evalue": "syntax: invalid syntax &(Core.tuple(1, 2, 4))",
     "output_type": "error",
     "traceback": [
      "syntax: invalid syntax &(Core.tuple(1, 2, 4))",
      "",
      "Stacktrace:",
      " [1] top-level scope at /Volumes/earth/Work/VMware/.julia/packages/IJulia/DrVMH/src/kernel.jl:52"
     ]
    }
   ],
   "source": [
    "&(1, 2, 4)"
   ]
  },
  {
   "cell_type": "code",
   "execution_count": 3,
   "metadata": {},
   "outputs": [
    {
     "data": {
      "text/plain": [
       "0"
      ]
     },
     "execution_count": 3,
     "metadata": {},
     "output_type": "execute_result"
    }
   ],
   "source": [
    "(&)(1, 2, 4)"
   ]
  },
  {
   "cell_type": "code",
   "execution_count": 4,
   "metadata": {},
   "outputs": [
    {
     "ename": "TypeError",
     "evalue": "TypeError: non-boolean (Int64) used in boolean context",
     "output_type": "error",
     "traceback": [
      "TypeError: non-boolean (Int64) used in boolean context",
      "",
      "Stacktrace:",
      " [1] top-level scope at In[4]:1"
     ]
    }
   ],
   "source": [
    "(&)(1::Bool, 2, 4)"
   ]
  },
  {
   "cell_type": "code",
   "execution_count": 5,
   "metadata": {},
   "outputs": [
    {
     "data": {
      "text/plain": [
       "0"
      ]
     },
     "execution_count": 5,
     "metadata": {},
     "output_type": "execute_result"
    }
   ],
   "source": [
    "(&)(1::Number, 2, 4)"
   ]
  },
  {
   "cell_type": "code",
   "execution_count": 6,
   "metadata": {},
   "outputs": [
    {
     "data": {
      "text/html": [
       "# 17 methods for generic function <b>|</b>:<ul><li> |(b::<b>Bool</b>, a::<b>Missing</b>) in Base at <a href=\"https://github.com/JuliaLang/julia/tree/b8e9a9ecc62ab49003bd4f1834771bdeb8cb1aa2/base/missing.jl#L165\" target=\"_blank\">missing.jl:165</a></li> <li> |(x::<b>Bool</b>, y::<b>Bool</b>) in Base at <a href=\"https://github.com/JuliaLang/julia/tree/b8e9a9ecc62ab49003bd4f1834771bdeb8cb1aa2/base/bool.jl#L41\" target=\"_blank\">bool.jl:41</a></li> <li> |(a::<b>Missing</b>, b::<b>Bool</b>) in Base at <a href=\"https://github.com/JuliaLang/julia/tree/b8e9a9ecc62ab49003bd4f1834771bdeb8cb1aa2/base/missing.jl#L164\" target=\"_blank\">missing.jl:164</a></li> <li> |(::<b>Missing</b>, ::<b>Missing</b>) in Base at <a href=\"https://github.com/JuliaLang/julia/tree/b8e9a9ecc62ab49003bd4f1834771bdeb8cb1aa2/base/missing.jl#L163\" target=\"_blank\">missing.jl:163</a></li> <li> |(::<b>Missing</b>, ::<b>Integer</b>) in Base at <a href=\"https://github.com/JuliaLang/julia/tree/b8e9a9ecc62ab49003bd4f1834771bdeb8cb1aa2/base/missing.jl#L166\" target=\"_blank\">missing.jl:166</a></li> <li> |(a::<b>BigInt</b>, b::<b>BigInt</b>, c::<b>BigInt</b>, d::<b>BigInt</b>, e::<b>BigInt</b>) in Base.GMP at <a href=\"https://github.com/JuliaLang/julia/tree/b8e9a9ecc62ab49003bd4f1834771bdeb8cb1aa2/base/gmp.jl#L515\" target=\"_blank\">gmp.jl:515</a></li> <li> |(a::<b>BigInt</b>, b::<b>BigInt</b>, c::<b>BigInt</b>, d::<b>BigInt</b>) in Base.GMP at <a href=\"https://github.com/JuliaLang/julia/tree/b8e9a9ecc62ab49003bd4f1834771bdeb8cb1aa2/base/gmp.jl#L514\" target=\"_blank\">gmp.jl:514</a></li> <li> |(a::<b>BigInt</b>, b::<b>BigInt</b>, c::<b>BigInt</b>) in Base.GMP at <a href=\"https://github.com/JuliaLang/julia/tree/b8e9a9ecc62ab49003bd4f1834771bdeb8cb1aa2/base/gmp.jl#L513\" target=\"_blank\">gmp.jl:513</a></li> <li> |(x::<b>BigInt</b>, y::<b>BigInt</b>) in Base.GMP at <a href=\"https://github.com/JuliaLang/julia/tree/b8e9a9ecc62ab49003bd4f1834771bdeb8cb1aa2/base/gmp.jl#L473\" target=\"_blank\">gmp.jl:473</a></li> <li> |(a::<b>FileWatching.FileEvent</b>, b::<b>FileWatching.FileEvent</b>) in FileWatching at <a href=\"file:///Users/julia/buildbot/worker/package_macos64/build/usr/share/julia/stdlib/v1.4/FileWatching/src/FileWatching.jl\" target=\"_blank\">/Applications/Julia-1.4.app/Contents/Resources/julia/share/julia/stdlib/v1.4/FileWatching/src/FileWatching.jl:43</a></li> <li> |(a::<b>FileWatching.FDEvent</b>, b::<b>FileWatching.FDEvent</b>) in FileWatching at <a href=\"file:///Users/julia/buildbot/worker/package_macos64/build/usr/share/julia/stdlib/v1.4/FileWatching/src/FileWatching.jl\" target=\"_blank\">/Applications/Julia-1.4.app/Contents/Resources/julia/share/julia/stdlib/v1.4/FileWatching/src/FileWatching.jl:67</a></li> <li> |(x::<b>T</b>, y::<b>T</b>)<i> where T<:Union{Int128, Int16, Int32, Int64, Int8, UInt128, UInt16, UInt32, UInt64, UInt8}</i> in Base at <a href=\"https://github.com/JuliaLang/julia/tree/b8e9a9ecc62ab49003bd4f1834771bdeb8cb1aa2/base/int.jl#L300\" target=\"_blank\">int.jl:300</a></li> <li> |(x::<b>Integer</b>) in Base at <a href=\"https://github.com/JuliaLang/julia/tree/b8e9a9ecc62ab49003bd4f1834771bdeb8cb1aa2/base/operators.jl#L507\" target=\"_blank\">operators.jl:507</a></li> <li> |(x::<b>T</b>, y::<b>T</b>)<i> where T<:Integer</i> in Base at <a href=\"https://github.com/JuliaLang/julia/tree/b8e9a9ecc62ab49003bd4f1834771bdeb8cb1aa2/base/promotion.jl#L395\" target=\"_blank\">promotion.jl:395</a></li> <li> |(a::<b>Integer</b>, b::<b>Integer</b>) in Base at <a href=\"https://github.com/JuliaLang/julia/tree/b8e9a9ecc62ab49003bd4f1834771bdeb8cb1aa2/base/int.jl#L857\" target=\"_blank\">int.jl:857</a></li> <li> |(::<b>Integer</b>, ::<b>Missing</b>) in Base at <a href=\"https://github.com/JuliaLang/julia/tree/b8e9a9ecc62ab49003bd4f1834771bdeb8cb1aa2/base/missing.jl#L167\" target=\"_blank\">missing.jl:167</a></li> <li> |(a, b, c, xs...) in Base at <a href=\"https://github.com/JuliaLang/julia/tree/b8e9a9ecc62ab49003bd4f1834771bdeb8cb1aa2/base/operators.jl#L529\" target=\"_blank\">operators.jl:529</a></li> </ul>"
      ],
      "text/plain": [
       "# 17 methods for generic function \"|\":\n",
       "[1] |(b::Bool, a::Missing) in Base at missing.jl:165\n",
       "[2] |(x::Bool, y::Bool) in Base at bool.jl:41\n",
       "[3] |(a::Missing, b::Bool) in Base at missing.jl:164\n",
       "[4] |(::Missing, ::Missing) in Base at missing.jl:163\n",
       "[5] |(::Missing, ::Integer) in Base at missing.jl:166\n",
       "[6] |(a::BigInt, b::BigInt, c::BigInt, d::BigInt, e::BigInt) in Base.GMP at gmp.jl:515\n",
       "[7] |(a::BigInt, b::BigInt, c::BigInt, d::BigInt) in Base.GMP at gmp.jl:514\n",
       "[8] |(a::BigInt, b::BigInt, c::BigInt) in Base.GMP at gmp.jl:513\n",
       "[9] |(x::BigInt, y::BigInt) in Base.GMP at gmp.jl:473\n",
       "[10] |(a::FileWatching.FileEvent, b::FileWatching.FileEvent) in FileWatching at /Applications/Julia-1.4.app/Contents/Resources/julia/share/julia/stdlib/v1.4/FileWatching/src/FileWatching.jl:43\n",
       "[11] |(a::FileWatching.FDEvent, b::FileWatching.FDEvent) in FileWatching at /Applications/Julia-1.4.app/Contents/Resources/julia/share/julia/stdlib/v1.4/FileWatching/src/FileWatching.jl:67\n",
       "[12] |(x::T, y::T) where T<:Union{Int128, Int16, Int32, Int64, Int8, UInt128, UInt16, UInt32, UInt64, UInt8} in Base at int.jl:300\n",
       "[13] |(x::Integer) in Base at operators.jl:507\n",
       "[14] |(x::T, y::T) where T<:Integer in Base at promotion.jl:395\n",
       "[15] |(a::Integer, b::Integer) in Base at int.jl:857\n",
       "[16] |(::Integer, ::Missing) in Base at missing.jl:167\n",
       "[17] |(a, b, c, xs...) in Base at operators.jl:529"
      ]
     },
     "execution_count": 6,
     "metadata": {},
     "output_type": "execute_result"
    }
   ],
   "source": [
    "methods(|)"
   ]
  },
  {
   "cell_type": "code",
   "execution_count": 7,
   "metadata": {},
   "outputs": [
    {
     "data": {
      "text/plain": [
       "7"
      ]
     },
     "execution_count": 7,
     "metadata": {},
     "output_type": "execute_result"
    }
   ],
   "source": [
    "|(1, 2, 4)"
   ]
  },
  {
   "cell_type": "code",
   "execution_count": 8,
   "metadata": {},
   "outputs": [
    {
     "data": {
      "text/plain": [
       "7"
      ]
     },
     "execution_count": 8,
     "metadata": {},
     "output_type": "execute_result"
    }
   ],
   "source": [
    "(|)(1, 2, 4)"
   ]
  },
  {
   "cell_type": "code",
   "execution_count": 9,
   "metadata": {},
   "outputs": [
    {
     "ename": "TypeError",
     "evalue": "TypeError: non-boolean (Int64) used in boolean context",
     "output_type": "error",
     "traceback": [
      "TypeError: non-boolean (Int64) used in boolean context",
      "",
      "Stacktrace:",
      " [1] top-level scope at In[9]:1"
     ]
    }
   ],
   "source": [
    "(|)(1::Bool, 2, 4)"
   ]
  },
  {
   "cell_type": "code",
   "execution_count": 10,
   "metadata": {},
   "outputs": [
    {
     "data": {
      "text/plain": [
       "7"
      ]
     },
     "execution_count": 10,
     "metadata": {},
     "output_type": "execute_result"
    }
   ],
   "source": [
    "(|)(1::Number, 2, 4)"
   ]
  }
 ],
 "metadata": {
  "@webio": {
   "lastCommId": null,
   "lastKernelId": null
  },
  "colab": {
   "name": "julia_016_example.ipynb",
   "provenance": []
  },
  "kernelspec": {
   "display_name": "Julia 1.4.0",
   "language": "julia",
   "name": "julia-1.4"
  },
  "language_info": {
   "file_extension": ".jl",
   "mimetype": "application/julia",
   "name": "julia",
   "version": "1.4.0"
  }
 },
 "nbformat": 4,
 "nbformat_minor": 4
}
