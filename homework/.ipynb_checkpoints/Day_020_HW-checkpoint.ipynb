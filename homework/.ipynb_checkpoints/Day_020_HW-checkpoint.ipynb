{
 "cells": [
  {
   "cell_type": "markdown",
   "metadata": {
    "colab_type": "text",
    "id": "EVPW4kLCmaSc"
   },
   "source": [
    "## Day 20 作業：將 missing 值替代為其他值\n",
    "\n",
    "由於現實世界中的資料可能有缺漏，因此資料中就會有 missing 值存在，而在資料科學及機器學習中，缺漏值的處理關係到分析或預測的結果。\n",
    "\n",
    "在今天的作業中，請將資料集中的年齡缺漏值，依性別分別替換為資料集中男性或女性的年齡平均值。\n",
    "\n",
    "本次作業使用的資料集：Kaggle Titanic: Machine Learning from Disaster 的 train 資料集\n",
    "\n",
    "競賽主頁：[https://www.kaggle.com/c/titanic/overview](https://www.kaggle.com/c/titanic/overview)\n",
    "\n",
    "請自行下載資料集 **train.csv**：[https://www.kaggle.com/c/titanic/data](https://www.kaggle.com/c/titanic/data)"
   ]
  },
  {
   "cell_type": "code",
   "execution_count": 1,
   "metadata": {
    "colab": {},
    "colab_type": "code",
    "id": "eeWlfZJSmaSe"
   },
   "outputs": [],
   "source": [
    "using DataFrames, CSV"
   ]
  },
  {
   "cell_type": "code",
   "execution_count": 2,
   "metadata": {
    "colab": {},
    "colab_type": "code",
    "id": "IkfIcUkjmaTS",
    "outputId": "7c455008-ef6c-410c-a8ba-1ad7c6edbb2d"
   },
   "outputs": [
    {
     "data": {
      "text/html": [
       "<table class=\"data-frame\"><thead><tr><th></th><th>PassengerId</th><th>Survived</th><th>Pclass</th><th>Name</th></tr><tr><th></th><th>Int64</th><th>Int64</th><th>Int64</th><th>String</th></tr></thead><tbody><p>891 rows × 12 columns (omitted printing of 8 columns)</p><tr><th>1</th><td>1</td><td>0</td><td>3</td><td>Braund, Mr. Owen Harris</td></tr><tr><th>2</th><td>2</td><td>1</td><td>1</td><td>Cumings, Mrs. John Bradley (Florence Briggs Thayer)</td></tr><tr><th>3</th><td>3</td><td>1</td><td>3</td><td>Heikkinen, Miss. Laina</td></tr><tr><th>4</th><td>4</td><td>1</td><td>1</td><td>Futrelle, Mrs. Jacques Heath (Lily May Peel)</td></tr><tr><th>5</th><td>5</td><td>0</td><td>3</td><td>Allen, Mr. William Henry</td></tr><tr><th>6</th><td>6</td><td>0</td><td>3</td><td>Moran, Mr. James</td></tr><tr><th>7</th><td>7</td><td>0</td><td>1</td><td>McCarthy, Mr. Timothy J</td></tr><tr><th>8</th><td>8</td><td>0</td><td>3</td><td>Palsson, Master. Gosta Leonard</td></tr><tr><th>9</th><td>9</td><td>1</td><td>3</td><td>Johnson, Mrs. Oscar W (Elisabeth Vilhelmina Berg)</td></tr><tr><th>10</th><td>10</td><td>1</td><td>2</td><td>Nasser, Mrs. Nicholas (Adele Achem)</td></tr><tr><th>11</th><td>11</td><td>1</td><td>3</td><td>Sandstrom, Miss. Marguerite Rut</td></tr><tr><th>12</th><td>12</td><td>1</td><td>1</td><td>Bonnell, Miss. Elizabeth</td></tr><tr><th>13</th><td>13</td><td>0</td><td>3</td><td>Saundercock, Mr. William Henry</td></tr><tr><th>14</th><td>14</td><td>0</td><td>3</td><td>Andersson, Mr. Anders Johan</td></tr><tr><th>15</th><td>15</td><td>0</td><td>3</td><td>Vestrom, Miss. Hulda Amanda Adolfina</td></tr><tr><th>16</th><td>16</td><td>1</td><td>2</td><td>Hewlett, Mrs. (Mary D Kingcome) </td></tr><tr><th>17</th><td>17</td><td>0</td><td>3</td><td>Rice, Master. Eugene</td></tr><tr><th>18</th><td>18</td><td>1</td><td>2</td><td>Williams, Mr. Charles Eugene</td></tr><tr><th>19</th><td>19</td><td>0</td><td>3</td><td>Vander Planke, Mrs. Julius (Emelia Maria Vandemoortele)</td></tr><tr><th>20</th><td>20</td><td>1</td><td>3</td><td>Masselmani, Mrs. Fatima</td></tr><tr><th>21</th><td>21</td><td>0</td><td>2</td><td>Fynney, Mr. Joseph J</td></tr><tr><th>22</th><td>22</td><td>1</td><td>2</td><td>Beesley, Mr. Lawrence</td></tr><tr><th>23</th><td>23</td><td>1</td><td>3</td><td>McGowan, Miss. Anna \"Annie\"</td></tr><tr><th>24</th><td>24</td><td>1</td><td>1</td><td>Sloper, Mr. William Thompson</td></tr><tr><th>25</th><td>25</td><td>0</td><td>3</td><td>Palsson, Miss. Torborg Danira</td></tr><tr><th>26</th><td>26</td><td>1</td><td>3</td><td>Asplund, Mrs. Carl Oscar (Selma Augusta Emilia Johansson)</td></tr><tr><th>27</th><td>27</td><td>0</td><td>3</td><td>Emir, Mr. Farred Chehab</td></tr><tr><th>28</th><td>28</td><td>0</td><td>1</td><td>Fortune, Mr. Charles Alexander</td></tr><tr><th>29</th><td>29</td><td>1</td><td>3</td><td>O'Dwyer, Miss. Ellen \"Nellie\"</td></tr><tr><th>30</th><td>30</td><td>0</td><td>3</td><td>Todoroff, Mr. Lalio</td></tr><tr><th>&vellip;</th><td>&vellip;</td><td>&vellip;</td><td>&vellip;</td><td>&vellip;</td></tr></tbody></table>"
      ],
      "text/latex": [
       "\\begin{tabular}{r|ccccc}\n",
       "\t& PassengerId & Survived & Pclass & Name & \\\\\n",
       "\t\\hline\n",
       "\t& Int64 & Int64 & Int64 & String & \\\\\n",
       "\t\\hline\n",
       "\t1 & 1 & 0 & 3 & Braund, Mr. Owen Harris & $\\dots$ \\\\\n",
       "\t2 & 2 & 1 & 1 & Cumings, Mrs. John Bradley (Florence Briggs Thayer) & $\\dots$ \\\\\n",
       "\t3 & 3 & 1 & 3 & Heikkinen, Miss. Laina & $\\dots$ \\\\\n",
       "\t4 & 4 & 1 & 1 & Futrelle, Mrs. Jacques Heath (Lily May Peel) & $\\dots$ \\\\\n",
       "\t5 & 5 & 0 & 3 & Allen, Mr. William Henry & $\\dots$ \\\\\n",
       "\t6 & 6 & 0 & 3 & Moran, Mr. James & $\\dots$ \\\\\n",
       "\t7 & 7 & 0 & 1 & McCarthy, Mr. Timothy J & $\\dots$ \\\\\n",
       "\t8 & 8 & 0 & 3 & Palsson, Master. Gosta Leonard & $\\dots$ \\\\\n",
       "\t9 & 9 & 1 & 3 & Johnson, Mrs. Oscar W (Elisabeth Vilhelmina Berg) & $\\dots$ \\\\\n",
       "\t10 & 10 & 1 & 2 & Nasser, Mrs. Nicholas (Adele Achem) & $\\dots$ \\\\\n",
       "\t11 & 11 & 1 & 3 & Sandstrom, Miss. Marguerite Rut & $\\dots$ \\\\\n",
       "\t12 & 12 & 1 & 1 & Bonnell, Miss. Elizabeth & $\\dots$ \\\\\n",
       "\t13 & 13 & 0 & 3 & Saundercock, Mr. William Henry & $\\dots$ \\\\\n",
       "\t14 & 14 & 0 & 3 & Andersson, Mr. Anders Johan & $\\dots$ \\\\\n",
       "\t15 & 15 & 0 & 3 & Vestrom, Miss. Hulda Amanda Adolfina & $\\dots$ \\\\\n",
       "\t16 & 16 & 1 & 2 & Hewlett, Mrs. (Mary D Kingcome)  & $\\dots$ \\\\\n",
       "\t17 & 17 & 0 & 3 & Rice, Master. Eugene & $\\dots$ \\\\\n",
       "\t18 & 18 & 1 & 2 & Williams, Mr. Charles Eugene & $\\dots$ \\\\\n",
       "\t19 & 19 & 0 & 3 & Vander Planke, Mrs. Julius (Emelia Maria Vandemoortele) & $\\dots$ \\\\\n",
       "\t20 & 20 & 1 & 3 & Masselmani, Mrs. Fatima & $\\dots$ \\\\\n",
       "\t21 & 21 & 0 & 2 & Fynney, Mr. Joseph J & $\\dots$ \\\\\n",
       "\t22 & 22 & 1 & 2 & Beesley, Mr. Lawrence & $\\dots$ \\\\\n",
       "\t23 & 23 & 1 & 3 & McGowan, Miss. Anna \"Annie\" & $\\dots$ \\\\\n",
       "\t24 & 24 & 1 & 1 & Sloper, Mr. William Thompson & $\\dots$ \\\\\n",
       "\t25 & 25 & 0 & 3 & Palsson, Miss. Torborg Danira & $\\dots$ \\\\\n",
       "\t26 & 26 & 1 & 3 & Asplund, Mrs. Carl Oscar (Selma Augusta Emilia Johansson) & $\\dots$ \\\\\n",
       "\t27 & 27 & 0 & 3 & Emir, Mr. Farred Chehab & $\\dots$ \\\\\n",
       "\t28 & 28 & 0 & 1 & Fortune, Mr. Charles Alexander & $\\dots$ \\\\\n",
       "\t29 & 29 & 1 & 3 & O'Dwyer, Miss. Ellen \"Nellie\" & $\\dots$ \\\\\n",
       "\t30 & 30 & 0 & 3 & Todoroff, Mr. Lalio & $\\dots$ \\\\\n",
       "\t$\\dots$ & $\\dots$ & $\\dots$ & $\\dots$ & $\\dots$ &  \\\\\n",
       "\\end{tabular}\n"
      ],
      "text/plain": [
       "891×12 DataFrame. Omitted printing of 9 columns\n",
       "│ Row │ PassengerId │ Survived │ Pclass │\n",
       "│     │ \u001b[90mInt64\u001b[39m       │ \u001b[90mInt64\u001b[39m    │ \u001b[90mInt64\u001b[39m  │\n",
       "├─────┼─────────────┼──────────┼────────┤\n",
       "│ 1   │ 1           │ 0        │ 3      │\n",
       "│ 2   │ 2           │ 1        │ 1      │\n",
       "│ 3   │ 3           │ 1        │ 3      │\n",
       "│ 4   │ 4           │ 1        │ 1      │\n",
       "│ 5   │ 5           │ 0        │ 3      │\n",
       "│ 6   │ 6           │ 0        │ 3      │\n",
       "│ 7   │ 7           │ 0        │ 1      │\n",
       "│ 8   │ 8           │ 0        │ 3      │\n",
       "│ 9   │ 9           │ 1        │ 3      │\n",
       "│ 10  │ 10          │ 1        │ 2      │\n",
       "⋮\n",
       "│ 881 │ 881         │ 1        │ 2      │\n",
       "│ 882 │ 882         │ 0        │ 3      │\n",
       "│ 883 │ 883         │ 0        │ 3      │\n",
       "│ 884 │ 884         │ 0        │ 2      │\n",
       "│ 885 │ 885         │ 0        │ 3      │\n",
       "│ 886 │ 886         │ 0        │ 3      │\n",
       "│ 887 │ 887         │ 0        │ 2      │\n",
       "│ 888 │ 888         │ 1        │ 1      │\n",
       "│ 889 │ 889         │ 0        │ 3      │\n",
       "│ 890 │ 890         │ 1        │ 1      │\n",
       "│ 891 │ 891         │ 0        │ 3      │"
      ]
     },
     "execution_count": 2,
     "metadata": {},
     "output_type": "execute_result"
    }
   ],
   "source": [
    "df = CSV.read(\"Day_020_train.csv\")"
   ]
  },
  {
   "cell_type": "code",
   "execution_count": 3,
   "metadata": {
    "colab": {},
    "colab_type": "code",
    "id": "otCGP_AtmaTm",
    "outputId": "3ff0bb8d-1103-47d8-fe43-47f18622f8c5"
   },
   "outputs": [
    {
     "data": {
      "text/plain": [
       "(891, 12)"
      ]
     },
     "execution_count": 3,
     "metadata": {},
     "output_type": "execute_result"
    }
   ],
   "source": [
    "size(df)"
   ]
  },
  {
   "cell_type": "markdown",
   "metadata": {
    "colab_type": "text",
    "id": "3JwkiUhYmaT5"
   },
   "source": [
    "呼叫 `describe()` 函式時，加上 `:nmissing` 參數，顯示各 column 的 missing 值數目。\n",
    "\n",
    "可以看到 Age 共有 177 個缺漏值。"
   ]
  },
  {
   "cell_type": "code",
   "execution_count": 4,
   "metadata": {
    "colab": {},
    "colab_type": "code",
    "id": "QWT4tm45maT7",
    "outputId": "d0c6a1ae-b249-4a32-9284-c3ffd4910b96"
   },
   "outputs": [
    {
     "data": {
      "text/html": [
       "<table class=\"data-frame\"><thead><tr><th></th><th>variable</th><th>nmissing</th></tr><tr><th></th><th>Symbol</th><th>Union…</th></tr></thead><tbody><p>12 rows × 2 columns</p><tr><th>1</th><td>PassengerId</td><td></td></tr><tr><th>2</th><td>Survived</td><td></td></tr><tr><th>3</th><td>Pclass</td><td></td></tr><tr><th>4</th><td>Name</td><td></td></tr><tr><th>5</th><td>Sex</td><td></td></tr><tr><th>6</th><td>Age</td><td>177</td></tr><tr><th>7</th><td>SibSp</td><td></td></tr><tr><th>8</th><td>Parch</td><td></td></tr><tr><th>9</th><td>Ticket</td><td></td></tr><tr><th>10</th><td>Fare</td><td></td></tr><tr><th>11</th><td>Cabin</td><td>687</td></tr><tr><th>12</th><td>Embarked</td><td>2</td></tr></tbody></table>"
      ],
      "text/latex": [
       "\\begin{tabular}{r|cc}\n",
       "\t& variable & nmissing\\\\\n",
       "\t\\hline\n",
       "\t& Symbol & Union…\\\\\n",
       "\t\\hline\n",
       "\t1 & PassengerId &  \\\\\n",
       "\t2 & Survived &  \\\\\n",
       "\t3 & Pclass &  \\\\\n",
       "\t4 & Name &  \\\\\n",
       "\t5 & Sex &  \\\\\n",
       "\t6 & Age & 177 \\\\\n",
       "\t7 & SibSp &  \\\\\n",
       "\t8 & Parch &  \\\\\n",
       "\t9 & Ticket &  \\\\\n",
       "\t10 & Fare &  \\\\\n",
       "\t11 & Cabin & 687 \\\\\n",
       "\t12 & Embarked & 2 \\\\\n",
       "\\end{tabular}\n"
      ],
      "text/plain": [
       "12×2 DataFrame\n",
       "│ Row │ variable    │ nmissing │\n",
       "│     │ \u001b[90mSymbol\u001b[39m      │ \u001b[90mUnion…\u001b[39m   │\n",
       "├─────┼─────────────┼──────────┤\n",
       "│ 1   │ PassengerId │          │\n",
       "│ 2   │ Survived    │          │\n",
       "│ 3   │ Pclass      │          │\n",
       "│ 4   │ Name        │          │\n",
       "│ 5   │ Sex         │          │\n",
       "│ 6   │ Age         │ 177      │\n",
       "│ 7   │ SibSp       │          │\n",
       "│ 8   │ Parch       │          │\n",
       "│ 9   │ Ticket      │          │\n",
       "│ 10  │ Fare        │          │\n",
       "│ 11  │ Cabin       │ 687      │\n",
       "│ 12  │ Embarked    │ 2        │"
      ]
     },
     "execution_count": 4,
     "metadata": {},
     "output_type": "execute_result"
    }
   ],
   "source": [
    "describe(df, :nmissing)"
   ]
  },
  {
   "cell_type": "markdown",
   "metadata": {
    "colab_type": "text",
    "id": "feAkzNA-maUC"
   },
   "source": [
    "計算男性及女性的平均年齡。\n",
    "\n",
    "【提示】使用 `skipmissing()` 去掉缺漏值後，再計算平均值。"
   ]
  },
  {
   "cell_type": "code",
   "execution_count": 5,
   "metadata": {
    "colab": {},
    "colab_type": "code",
    "id": "wRiM0Gq_maUD"
   },
   "outputs": [],
   "source": [
    "using Statistics"
   ]
  },
  {
   "cell_type": "code",
   "execution_count": 6,
   "metadata": {
    "colab": {},
    "colab_type": "code",
    "id": "54yYKzADmaUM"
   },
   "outputs": [
    {
     "data": {
      "text/plain": [
       "30.72664459161148"
      ]
     },
     "execution_count": 6,
     "metadata": {},
     "output_type": "execute_result"
    }
   ],
   "source": [
    "male_age_avg = mean(skipmissing(df[df.Sex .==\"male\", :Age])) # 請輸入程式碼"
   ]
  },
  {
   "cell_type": "code",
   "execution_count": 7,
   "metadata": {
    "colab": {},
    "colab_type": "code",
    "id": "4w92N00-maUT"
   },
   "outputs": [
    {
     "data": {
      "text/plain": [
       "27.915708812260537"
      ]
     },
     "execution_count": 7,
     "metadata": {},
     "output_type": "execute_result"
    }
   ],
   "source": [
    "female_age_avg = mean(skipmissing(df[df.Sex .==\"female\", :Age])) # 請輸入程式碼"
   ]
  },
  {
   "cell_type": "markdown",
   "metadata": {
    "colab_type": "text",
    "id": "-O9fseP7maUa"
   },
   "source": [
    "將 Age column 中的 missing 值，依性別替換為上面計算出來的平均年齡值。\n",
    "\n",
    "【提示】可產生新的 column 來存放新的結果，而不取代掉原先的 Age column。"
   ]
  },
  {
   "cell_type": "code",
   "execution_count": 8,
   "metadata": {
    "colab": {},
    "colab_type": "code",
    "id": "UEtMiJrOmaUb"
   },
   "outputs": [],
   "source": [
    "# 請輸入程式碼"
   ]
  },
  {
   "cell_type": "code",
   "execution_count": 9,
   "metadata": {},
   "outputs": [
    {
     "data": {
      "text/plain": [
       "891-element Array{Float64,1}:\n",
       " 22.0\n",
       " 38.0\n",
       " 26.0\n",
       " 35.0\n",
       " 35.0\n",
       " 30.72664459161148\n",
       " 54.0\n",
       "  2.0\n",
       " 27.0\n",
       " 14.0\n",
       "  4.0\n",
       " 58.0\n",
       " 20.0\n",
       "  ⋮\n",
       " 56.0\n",
       " 25.0\n",
       " 33.0\n",
       " 22.0\n",
       " 28.0\n",
       " 25.0\n",
       " 39.0\n",
       " 27.0\n",
       " 19.0\n",
       " 27.915708812260537\n",
       " 26.0\n",
       " 32.0"
      ]
     },
     "execution_count": 9,
     "metadata": {},
     "output_type": "execute_result"
    }
   ],
   "source": [
    "# 提交後訂正\n",
    "df.new_Age = map(eachrow(df)) do r\n",
    "    if (r.Sex == \"male\") & (ismissing(r.Age)) \n",
    "        Age = male_age_avg\n",
    "    elseif (r.Sex == \"female\") & (ismissing(r.Age))\n",
    "        Age = female_age_avg\n",
    "    else\n",
    "        Age = r.Age\n",
    "    end\n",
    "end"
   ]
  },
  {
   "cell_type": "code",
   "execution_count": 10,
   "metadata": {},
   "outputs": [
    {
     "data": {
      "text/html": [
       "<table class=\"data-frame\"><thead><tr><th></th><th>variable</th><th>nmissing</th></tr><tr><th></th><th>Symbol</th><th>Union…</th></tr></thead><tbody><p>13 rows × 2 columns</p><tr><th>1</th><td>PassengerId</td><td></td></tr><tr><th>2</th><td>Survived</td><td></td></tr><tr><th>3</th><td>Pclass</td><td></td></tr><tr><th>4</th><td>Name</td><td></td></tr><tr><th>5</th><td>Sex</td><td></td></tr><tr><th>6</th><td>Age</td><td>177</td></tr><tr><th>7</th><td>SibSp</td><td></td></tr><tr><th>8</th><td>Parch</td><td></td></tr><tr><th>9</th><td>Ticket</td><td></td></tr><tr><th>10</th><td>Fare</td><td></td></tr><tr><th>11</th><td>Cabin</td><td>687</td></tr><tr><th>12</th><td>Embarked</td><td>2</td></tr><tr><th>13</th><td>new_Age</td><td></td></tr></tbody></table>"
      ],
      "text/latex": [
       "\\begin{tabular}{r|cc}\n",
       "\t& variable & nmissing\\\\\n",
       "\t\\hline\n",
       "\t& Symbol & Union…\\\\\n",
       "\t\\hline\n",
       "\t1 & PassengerId &  \\\\\n",
       "\t2 & Survived &  \\\\\n",
       "\t3 & Pclass &  \\\\\n",
       "\t4 & Name &  \\\\\n",
       "\t5 & Sex &  \\\\\n",
       "\t6 & Age & 177 \\\\\n",
       "\t7 & SibSp &  \\\\\n",
       "\t8 & Parch &  \\\\\n",
       "\t9 & Ticket &  \\\\\n",
       "\t10 & Fare &  \\\\\n",
       "\t11 & Cabin & 687 \\\\\n",
       "\t12 & Embarked & 2 \\\\\n",
       "\t13 & new\\_Age &  \\\\\n",
       "\\end{tabular}\n"
      ],
      "text/plain": [
       "13×2 DataFrame\n",
       "│ Row │ variable    │ nmissing │\n",
       "│     │ \u001b[90mSymbol\u001b[39m      │ \u001b[90mUnion…\u001b[39m   │\n",
       "├─────┼─────────────┼──────────┤\n",
       "│ 1   │ PassengerId │          │\n",
       "│ 2   │ Survived    │          │\n",
       "│ 3   │ Pclass      │          │\n",
       "│ 4   │ Name        │          │\n",
       "│ 5   │ Sex         │          │\n",
       "│ 6   │ Age         │ 177      │\n",
       "│ 7   │ SibSp       │          │\n",
       "│ 8   │ Parch       │          │\n",
       "│ 9   │ Ticket      │          │\n",
       "│ 10  │ Fare        │          │\n",
       "│ 11  │ Cabin       │ 687      │\n",
       "│ 12  │ Embarked    │ 2        │\n",
       "│ 13  │ new_Age     │          │"
      ]
     },
     "execution_count": 10,
     "metadata": {},
     "output_type": "execute_result"
    }
   ],
   "source": [
    "describe(df, :nmissing)"
   ]
  },
  {
   "cell_type": "code",
   "execution_count": 11,
   "metadata": {},
   "outputs": [
    {
     "data": {
      "text/plain": [
       "30.726644591611475"
      ]
     },
     "execution_count": 11,
     "metadata": {},
     "output_type": "execute_result"
    }
   ],
   "source": [
    "male_new_age_avg = mean(df[df.Sex .==\"male\", :new_Age])"
   ]
  },
  {
   "cell_type": "code",
   "execution_count": 12,
   "metadata": {},
   "outputs": [
    {
     "data": {
      "text/plain": [
       "27.91570881226054"
      ]
     },
     "execution_count": 12,
     "metadata": {},
     "output_type": "execute_result"
    }
   ],
   "source": [
    "female_new_age_avg = mean(df[df.Sex .==\"female\", :new_Age])"
   ]
  },
  {
   "cell_type": "code",
   "execution_count": 13,
   "metadata": {},
   "outputs": [
    {
     "data": {
      "text/html": [
       "<table class=\"data-frame\"><thead><tr><th></th><th>PassengerId</th><th>Age</th></tr><tr><th></th><th>Int64</th><th>Float64</th></tr></thead><tbody><p>577 rows × 2 columns</p><tr><th>1</th><td>1</td><td>22.0</td></tr><tr><th>2</th><td>5</td><td>35.0</td></tr><tr><th>3</th><td>6</td><td>30.7266</td></tr><tr><th>4</th><td>7</td><td>54.0</td></tr><tr><th>5</th><td>8</td><td>2.0</td></tr><tr><th>6</th><td>13</td><td>20.0</td></tr><tr><th>7</th><td>14</td><td>39.0</td></tr><tr><th>8</th><td>17</td><td>2.0</td></tr><tr><th>9</th><td>18</td><td>30.7266</td></tr><tr><th>10</th><td>21</td><td>35.0</td></tr><tr><th>11</th><td>22</td><td>34.0</td></tr><tr><th>12</th><td>24</td><td>28.0</td></tr><tr><th>13</th><td>27</td><td>30.7266</td></tr><tr><th>14</th><td>28</td><td>19.0</td></tr><tr><th>15</th><td>30</td><td>30.7266</td></tr><tr><th>16</th><td>31</td><td>40.0</td></tr><tr><th>17</th><td>34</td><td>66.0</td></tr><tr><th>18</th><td>35</td><td>28.0</td></tr><tr><th>19</th><td>36</td><td>42.0</td></tr><tr><th>20</th><td>37</td><td>30.7266</td></tr><tr><th>21</th><td>38</td><td>21.0</td></tr><tr><th>22</th><td>43</td><td>30.7266</td></tr><tr><th>23</th><td>46</td><td>30.7266</td></tr><tr><th>24</th><td>47</td><td>30.7266</td></tr><tr><th>25</th><td>49</td><td>30.7266</td></tr><tr><th>26</th><td>51</td><td>7.0</td></tr><tr><th>27</th><td>52</td><td>21.0</td></tr><tr><th>28</th><td>55</td><td>65.0</td></tr><tr><th>29</th><td>56</td><td>30.7266</td></tr><tr><th>30</th><td>58</td><td>28.5</td></tr><tr><th>&vellip;</th><td>&vellip;</td><td>&vellip;</td></tr></tbody></table>"
      ],
      "text/latex": [
       "\\begin{tabular}{r|cc}\n",
       "\t& PassengerId & Age\\\\\n",
       "\t\\hline\n",
       "\t& Int64 & Float64\\\\\n",
       "\t\\hline\n",
       "\t1 & 1 & 22.0 \\\\\n",
       "\t2 & 5 & 35.0 \\\\\n",
       "\t3 & 6 & 30.7266 \\\\\n",
       "\t4 & 7 & 54.0 \\\\\n",
       "\t5 & 8 & 2.0 \\\\\n",
       "\t6 & 13 & 20.0 \\\\\n",
       "\t7 & 14 & 39.0 \\\\\n",
       "\t8 & 17 & 2.0 \\\\\n",
       "\t9 & 18 & 30.7266 \\\\\n",
       "\t10 & 21 & 35.0 \\\\\n",
       "\t11 & 22 & 34.0 \\\\\n",
       "\t12 & 24 & 28.0 \\\\\n",
       "\t13 & 27 & 30.7266 \\\\\n",
       "\t14 & 28 & 19.0 \\\\\n",
       "\t15 & 30 & 30.7266 \\\\\n",
       "\t16 & 31 & 40.0 \\\\\n",
       "\t17 & 34 & 66.0 \\\\\n",
       "\t18 & 35 & 28.0 \\\\\n",
       "\t19 & 36 & 42.0 \\\\\n",
       "\t20 & 37 & 30.7266 \\\\\n",
       "\t21 & 38 & 21.0 \\\\\n",
       "\t22 & 43 & 30.7266 \\\\\n",
       "\t23 & 46 & 30.7266 \\\\\n",
       "\t24 & 47 & 30.7266 \\\\\n",
       "\t25 & 49 & 30.7266 \\\\\n",
       "\t26 & 51 & 7.0 \\\\\n",
       "\t27 & 52 & 21.0 \\\\\n",
       "\t28 & 55 & 65.0 \\\\\n",
       "\t29 & 56 & 30.7266 \\\\\n",
       "\t30 & 58 & 28.5 \\\\\n",
       "\t$\\dots$ & $\\dots$ & $\\dots$ \\\\\n",
       "\\end{tabular}\n"
      ],
      "text/plain": [
       "577×2 DataFrame\n",
       "│ Row │ PassengerId │ Age     │\n",
       "│     │ \u001b[90mInt64\u001b[39m       │ \u001b[90mFloat64\u001b[39m │\n",
       "├─────┼─────────────┼─────────┤\n",
       "│ 1   │ 1           │ 22.0    │\n",
       "│ 2   │ 5           │ 35.0    │\n",
       "│ 3   │ 6           │ 30.7266 │\n",
       "│ 4   │ 7           │ 54.0    │\n",
       "│ 5   │ 8           │ 2.0     │\n",
       "│ 6   │ 13          │ 20.0    │\n",
       "│ 7   │ 14          │ 39.0    │\n",
       "│ 8   │ 17          │ 2.0     │\n",
       "│ 9   │ 18          │ 30.7266 │\n",
       "│ 10  │ 21          │ 35.0    │\n",
       "⋮\n",
       "│ 567 │ 873         │ 33.0    │\n",
       "│ 568 │ 874         │ 47.0    │\n",
       "│ 569 │ 877         │ 20.0    │\n",
       "│ 570 │ 878         │ 19.0    │\n",
       "│ 571 │ 879         │ 30.7266 │\n",
       "│ 572 │ 882         │ 33.0    │\n",
       "│ 573 │ 884         │ 28.0    │\n",
       "│ 574 │ 885         │ 25.0    │\n",
       "│ 575 │ 887         │ 27.0    │\n",
       "│ 576 │ 890         │ 26.0    │\n",
       "│ 577 │ 891         │ 32.0    │"
      ]
     },
     "execution_count": 13,
     "metadata": {},
     "output_type": "execute_result"
    }
   ],
   "source": [
    "mdf=hcat(df[df.Sex .==\"male\", [:PassengerId]], coalesce.(df[df.Sex .==\"male\", [:Age]], male_age_avg))"
   ]
  },
  {
   "cell_type": "code",
   "execution_count": 14,
   "metadata": {},
   "outputs": [
    {
     "data": {
      "text/html": [
       "<table class=\"data-frame\"><thead><tr><th></th><th>PassengerId</th><th>Age</th></tr><tr><th></th><th>Int64</th><th>Float64</th></tr></thead><tbody><p>314 rows × 2 columns</p><tr><th>1</th><td>2</td><td>38.0</td></tr><tr><th>2</th><td>3</td><td>26.0</td></tr><tr><th>3</th><td>4</td><td>35.0</td></tr><tr><th>4</th><td>9</td><td>27.0</td></tr><tr><th>5</th><td>10</td><td>14.0</td></tr><tr><th>6</th><td>11</td><td>4.0</td></tr><tr><th>7</th><td>12</td><td>58.0</td></tr><tr><th>8</th><td>15</td><td>14.0</td></tr><tr><th>9</th><td>16</td><td>55.0</td></tr><tr><th>10</th><td>19</td><td>31.0</td></tr><tr><th>11</th><td>20</td><td>27.9157</td></tr><tr><th>12</th><td>23</td><td>15.0</td></tr><tr><th>13</th><td>25</td><td>8.0</td></tr><tr><th>14</th><td>26</td><td>38.0</td></tr><tr><th>15</th><td>29</td><td>27.9157</td></tr><tr><th>16</th><td>32</td><td>27.9157</td></tr><tr><th>17</th><td>33</td><td>27.9157</td></tr><tr><th>18</th><td>39</td><td>18.0</td></tr><tr><th>19</th><td>40</td><td>14.0</td></tr><tr><th>20</th><td>41</td><td>40.0</td></tr><tr><th>21</th><td>42</td><td>27.0</td></tr><tr><th>22</th><td>44</td><td>3.0</td></tr><tr><th>23</th><td>45</td><td>19.0</td></tr><tr><th>24</th><td>48</td><td>27.9157</td></tr><tr><th>25</th><td>50</td><td>18.0</td></tr><tr><th>26</th><td>53</td><td>49.0</td></tr><tr><th>27</th><td>54</td><td>29.0</td></tr><tr><th>28</th><td>57</td><td>21.0</td></tr><tr><th>29</th><td>59</td><td>5.0</td></tr><tr><th>30</th><td>62</td><td>38.0</td></tr><tr><th>&vellip;</th><td>&vellip;</td><td>&vellip;</td></tr></tbody></table>"
      ],
      "text/latex": [
       "\\begin{tabular}{r|cc}\n",
       "\t& PassengerId & Age\\\\\n",
       "\t\\hline\n",
       "\t& Int64 & Float64\\\\\n",
       "\t\\hline\n",
       "\t1 & 2 & 38.0 \\\\\n",
       "\t2 & 3 & 26.0 \\\\\n",
       "\t3 & 4 & 35.0 \\\\\n",
       "\t4 & 9 & 27.0 \\\\\n",
       "\t5 & 10 & 14.0 \\\\\n",
       "\t6 & 11 & 4.0 \\\\\n",
       "\t7 & 12 & 58.0 \\\\\n",
       "\t8 & 15 & 14.0 \\\\\n",
       "\t9 & 16 & 55.0 \\\\\n",
       "\t10 & 19 & 31.0 \\\\\n",
       "\t11 & 20 & 27.9157 \\\\\n",
       "\t12 & 23 & 15.0 \\\\\n",
       "\t13 & 25 & 8.0 \\\\\n",
       "\t14 & 26 & 38.0 \\\\\n",
       "\t15 & 29 & 27.9157 \\\\\n",
       "\t16 & 32 & 27.9157 \\\\\n",
       "\t17 & 33 & 27.9157 \\\\\n",
       "\t18 & 39 & 18.0 \\\\\n",
       "\t19 & 40 & 14.0 \\\\\n",
       "\t20 & 41 & 40.0 \\\\\n",
       "\t21 & 42 & 27.0 \\\\\n",
       "\t22 & 44 & 3.0 \\\\\n",
       "\t23 & 45 & 19.0 \\\\\n",
       "\t24 & 48 & 27.9157 \\\\\n",
       "\t25 & 50 & 18.0 \\\\\n",
       "\t26 & 53 & 49.0 \\\\\n",
       "\t27 & 54 & 29.0 \\\\\n",
       "\t28 & 57 & 21.0 \\\\\n",
       "\t29 & 59 & 5.0 \\\\\n",
       "\t30 & 62 & 38.0 \\\\\n",
       "\t$\\dots$ & $\\dots$ & $\\dots$ \\\\\n",
       "\\end{tabular}\n"
      ],
      "text/plain": [
       "314×2 DataFrame\n",
       "│ Row │ PassengerId │ Age     │\n",
       "│     │ \u001b[90mInt64\u001b[39m       │ \u001b[90mFloat64\u001b[39m │\n",
       "├─────┼─────────────┼─────────┤\n",
       "│ 1   │ 2           │ 38.0    │\n",
       "│ 2   │ 3           │ 26.0    │\n",
       "│ 3   │ 4           │ 35.0    │\n",
       "│ 4   │ 9           │ 27.0    │\n",
       "│ 5   │ 10          │ 14.0    │\n",
       "│ 6   │ 11          │ 4.0     │\n",
       "│ 7   │ 12          │ 58.0    │\n",
       "│ 8   │ 15          │ 14.0    │\n",
       "│ 9   │ 16          │ 55.0    │\n",
       "│ 10  │ 19          │ 31.0    │\n",
       "⋮\n",
       "│ 304 │ 866         │ 42.0    │\n",
       "│ 305 │ 867         │ 27.0    │\n",
       "│ 306 │ 872         │ 47.0    │\n",
       "│ 307 │ 875         │ 28.0    │\n",
       "│ 308 │ 876         │ 15.0    │\n",
       "│ 309 │ 880         │ 56.0    │\n",
       "│ 310 │ 881         │ 25.0    │\n",
       "│ 311 │ 883         │ 22.0    │\n",
       "│ 312 │ 886         │ 39.0    │\n",
       "│ 313 │ 888         │ 19.0    │\n",
       "│ 314 │ 889         │ 27.9157 │"
      ]
     },
     "execution_count": 14,
     "metadata": {},
     "output_type": "execute_result"
    }
   ],
   "source": [
    "fdf=hcat(df[df.Sex .==\"female\", [:PassengerId]], coalesce.(df[df.Sex .==\"female\", [:Age]], female_age_avg))"
   ]
  },
  {
   "cell_type": "code",
   "execution_count": 15,
   "metadata": {},
   "outputs": [
    {
     "data": {
      "text/html": [
       "<table class=\"data-frame\"><thead><tr><th></th><th>PassengerId</th><th>Age</th></tr><tr><th></th><th>Int64</th><th>Float64</th></tr></thead><tbody><p>891 rows × 2 columns</p><tr><th>1</th><td>1</td><td>22.0</td></tr><tr><th>2</th><td>5</td><td>35.0</td></tr><tr><th>3</th><td>6</td><td>30.7266</td></tr><tr><th>4</th><td>7</td><td>54.0</td></tr><tr><th>5</th><td>8</td><td>2.0</td></tr><tr><th>6</th><td>13</td><td>20.0</td></tr><tr><th>7</th><td>14</td><td>39.0</td></tr><tr><th>8</th><td>17</td><td>2.0</td></tr><tr><th>9</th><td>18</td><td>30.7266</td></tr><tr><th>10</th><td>21</td><td>35.0</td></tr><tr><th>11</th><td>22</td><td>34.0</td></tr><tr><th>12</th><td>24</td><td>28.0</td></tr><tr><th>13</th><td>27</td><td>30.7266</td></tr><tr><th>14</th><td>28</td><td>19.0</td></tr><tr><th>15</th><td>30</td><td>30.7266</td></tr><tr><th>16</th><td>31</td><td>40.0</td></tr><tr><th>17</th><td>34</td><td>66.0</td></tr><tr><th>18</th><td>35</td><td>28.0</td></tr><tr><th>19</th><td>36</td><td>42.0</td></tr><tr><th>20</th><td>37</td><td>30.7266</td></tr><tr><th>21</th><td>38</td><td>21.0</td></tr><tr><th>22</th><td>43</td><td>30.7266</td></tr><tr><th>23</th><td>46</td><td>30.7266</td></tr><tr><th>24</th><td>47</td><td>30.7266</td></tr><tr><th>25</th><td>49</td><td>30.7266</td></tr><tr><th>26</th><td>51</td><td>7.0</td></tr><tr><th>27</th><td>52</td><td>21.0</td></tr><tr><th>28</th><td>55</td><td>65.0</td></tr><tr><th>29</th><td>56</td><td>30.7266</td></tr><tr><th>30</th><td>58</td><td>28.5</td></tr><tr><th>&vellip;</th><td>&vellip;</td><td>&vellip;</td></tr></tbody></table>"
      ],
      "text/latex": [
       "\\begin{tabular}{r|cc}\n",
       "\t& PassengerId & Age\\\\\n",
       "\t\\hline\n",
       "\t& Int64 & Float64\\\\\n",
       "\t\\hline\n",
       "\t1 & 1 & 22.0 \\\\\n",
       "\t2 & 5 & 35.0 \\\\\n",
       "\t3 & 6 & 30.7266 \\\\\n",
       "\t4 & 7 & 54.0 \\\\\n",
       "\t5 & 8 & 2.0 \\\\\n",
       "\t6 & 13 & 20.0 \\\\\n",
       "\t7 & 14 & 39.0 \\\\\n",
       "\t8 & 17 & 2.0 \\\\\n",
       "\t9 & 18 & 30.7266 \\\\\n",
       "\t10 & 21 & 35.0 \\\\\n",
       "\t11 & 22 & 34.0 \\\\\n",
       "\t12 & 24 & 28.0 \\\\\n",
       "\t13 & 27 & 30.7266 \\\\\n",
       "\t14 & 28 & 19.0 \\\\\n",
       "\t15 & 30 & 30.7266 \\\\\n",
       "\t16 & 31 & 40.0 \\\\\n",
       "\t17 & 34 & 66.0 \\\\\n",
       "\t18 & 35 & 28.0 \\\\\n",
       "\t19 & 36 & 42.0 \\\\\n",
       "\t20 & 37 & 30.7266 \\\\\n",
       "\t21 & 38 & 21.0 \\\\\n",
       "\t22 & 43 & 30.7266 \\\\\n",
       "\t23 & 46 & 30.7266 \\\\\n",
       "\t24 & 47 & 30.7266 \\\\\n",
       "\t25 & 49 & 30.7266 \\\\\n",
       "\t26 & 51 & 7.0 \\\\\n",
       "\t27 & 52 & 21.0 \\\\\n",
       "\t28 & 55 & 65.0 \\\\\n",
       "\t29 & 56 & 30.7266 \\\\\n",
       "\t30 & 58 & 28.5 \\\\\n",
       "\t$\\dots$ & $\\dots$ & $\\dots$ \\\\\n",
       "\\end{tabular}\n"
      ],
      "text/plain": [
       "891×2 DataFrame\n",
       "│ Row │ PassengerId │ Age     │\n",
       "│     │ \u001b[90mInt64\u001b[39m       │ \u001b[90mFloat64\u001b[39m │\n",
       "├─────┼─────────────┼─────────┤\n",
       "│ 1   │ 1           │ 22.0    │\n",
       "│ 2   │ 5           │ 35.0    │\n",
       "│ 3   │ 6           │ 30.7266 │\n",
       "│ 4   │ 7           │ 54.0    │\n",
       "│ 5   │ 8           │ 2.0     │\n",
       "│ 6   │ 13          │ 20.0    │\n",
       "│ 7   │ 14          │ 39.0    │\n",
       "│ 8   │ 17          │ 2.0     │\n",
       "│ 9   │ 18          │ 30.7266 │\n",
       "│ 10  │ 21          │ 35.0    │\n",
       "⋮\n",
       "│ 881 │ 866         │ 42.0    │\n",
       "│ 882 │ 867         │ 27.0    │\n",
       "│ 883 │ 872         │ 47.0    │\n",
       "│ 884 │ 875         │ 28.0    │\n",
       "│ 885 │ 876         │ 15.0    │\n",
       "│ 886 │ 880         │ 56.0    │\n",
       "│ 887 │ 881         │ 25.0    │\n",
       "│ 888 │ 883         │ 22.0    │\n",
       "│ 889 │ 886         │ 39.0    │\n",
       "│ 890 │ 888         │ 19.0    │\n",
       "│ 891 │ 889         │ 27.9157 │"
      ]
     },
     "execution_count": 15,
     "metadata": {},
     "output_type": "execute_result"
    }
   ],
   "source": [
    "vdf=vcat(mdf, fdf)"
   ]
  },
  {
   "cell_type": "code",
   "execution_count": 16,
   "metadata": {},
   "outputs": [
    {
     "data": {
      "text/html": [
       "<table class=\"data-frame\"><thead><tr><th></th><th>PassengerId</th><th>my_new_Age</th></tr><tr><th></th><th>Int64</th><th>Float64</th></tr></thead><tbody><p>891 rows × 2 columns</p><tr><th>1</th><td>1</td><td>22.0</td></tr><tr><th>2</th><td>5</td><td>35.0</td></tr><tr><th>3</th><td>6</td><td>30.7266</td></tr><tr><th>4</th><td>7</td><td>54.0</td></tr><tr><th>5</th><td>8</td><td>2.0</td></tr><tr><th>6</th><td>13</td><td>20.0</td></tr><tr><th>7</th><td>14</td><td>39.0</td></tr><tr><th>8</th><td>17</td><td>2.0</td></tr><tr><th>9</th><td>18</td><td>30.7266</td></tr><tr><th>10</th><td>21</td><td>35.0</td></tr><tr><th>11</th><td>22</td><td>34.0</td></tr><tr><th>12</th><td>24</td><td>28.0</td></tr><tr><th>13</th><td>27</td><td>30.7266</td></tr><tr><th>14</th><td>28</td><td>19.0</td></tr><tr><th>15</th><td>30</td><td>30.7266</td></tr><tr><th>16</th><td>31</td><td>40.0</td></tr><tr><th>17</th><td>34</td><td>66.0</td></tr><tr><th>18</th><td>35</td><td>28.0</td></tr><tr><th>19</th><td>36</td><td>42.0</td></tr><tr><th>20</th><td>37</td><td>30.7266</td></tr><tr><th>21</th><td>38</td><td>21.0</td></tr><tr><th>22</th><td>43</td><td>30.7266</td></tr><tr><th>23</th><td>46</td><td>30.7266</td></tr><tr><th>24</th><td>47</td><td>30.7266</td></tr><tr><th>25</th><td>49</td><td>30.7266</td></tr><tr><th>26</th><td>51</td><td>7.0</td></tr><tr><th>27</th><td>52</td><td>21.0</td></tr><tr><th>28</th><td>55</td><td>65.0</td></tr><tr><th>29</th><td>56</td><td>30.7266</td></tr><tr><th>30</th><td>58</td><td>28.5</td></tr><tr><th>&vellip;</th><td>&vellip;</td><td>&vellip;</td></tr></tbody></table>"
      ],
      "text/latex": [
       "\\begin{tabular}{r|cc}\n",
       "\t& PassengerId & my\\_new\\_Age\\\\\n",
       "\t\\hline\n",
       "\t& Int64 & Float64\\\\\n",
       "\t\\hline\n",
       "\t1 & 1 & 22.0 \\\\\n",
       "\t2 & 5 & 35.0 \\\\\n",
       "\t3 & 6 & 30.7266 \\\\\n",
       "\t4 & 7 & 54.0 \\\\\n",
       "\t5 & 8 & 2.0 \\\\\n",
       "\t6 & 13 & 20.0 \\\\\n",
       "\t7 & 14 & 39.0 \\\\\n",
       "\t8 & 17 & 2.0 \\\\\n",
       "\t9 & 18 & 30.7266 \\\\\n",
       "\t10 & 21 & 35.0 \\\\\n",
       "\t11 & 22 & 34.0 \\\\\n",
       "\t12 & 24 & 28.0 \\\\\n",
       "\t13 & 27 & 30.7266 \\\\\n",
       "\t14 & 28 & 19.0 \\\\\n",
       "\t15 & 30 & 30.7266 \\\\\n",
       "\t16 & 31 & 40.0 \\\\\n",
       "\t17 & 34 & 66.0 \\\\\n",
       "\t18 & 35 & 28.0 \\\\\n",
       "\t19 & 36 & 42.0 \\\\\n",
       "\t20 & 37 & 30.7266 \\\\\n",
       "\t21 & 38 & 21.0 \\\\\n",
       "\t22 & 43 & 30.7266 \\\\\n",
       "\t23 & 46 & 30.7266 \\\\\n",
       "\t24 & 47 & 30.7266 \\\\\n",
       "\t25 & 49 & 30.7266 \\\\\n",
       "\t26 & 51 & 7.0 \\\\\n",
       "\t27 & 52 & 21.0 \\\\\n",
       "\t28 & 55 & 65.0 \\\\\n",
       "\t29 & 56 & 30.7266 \\\\\n",
       "\t30 & 58 & 28.5 \\\\\n",
       "\t$\\dots$ & $\\dots$ & $\\dots$ \\\\\n",
       "\\end{tabular}\n"
      ],
      "text/plain": [
       "891×2 DataFrame\n",
       "│ Row │ PassengerId │ my_new_Age │\n",
       "│     │ \u001b[90mInt64\u001b[39m       │ \u001b[90mFloat64\u001b[39m    │\n",
       "├─────┼─────────────┼────────────┤\n",
       "│ 1   │ 1           │ 22.0       │\n",
       "│ 2   │ 5           │ 35.0       │\n",
       "│ 3   │ 6           │ 30.7266    │\n",
       "│ 4   │ 7           │ 54.0       │\n",
       "│ 5   │ 8           │ 2.0        │\n",
       "│ 6   │ 13          │ 20.0       │\n",
       "│ 7   │ 14          │ 39.0       │\n",
       "│ 8   │ 17          │ 2.0        │\n",
       "│ 9   │ 18          │ 30.7266    │\n",
       "│ 10  │ 21          │ 35.0       │\n",
       "⋮\n",
       "│ 881 │ 866         │ 42.0       │\n",
       "│ 882 │ 867         │ 27.0       │\n",
       "│ 883 │ 872         │ 47.0       │\n",
       "│ 884 │ 875         │ 28.0       │\n",
       "│ 885 │ 876         │ 15.0       │\n",
       "│ 886 │ 880         │ 56.0       │\n",
       "│ 887 │ 881         │ 25.0       │\n",
       "│ 888 │ 883         │ 22.0       │\n",
       "│ 889 │ 886         │ 39.0       │\n",
       "│ 890 │ 888         │ 19.0       │\n",
       "│ 891 │ 889         │ 27.9157    │"
      ]
     },
     "execution_count": 16,
     "metadata": {},
     "output_type": "execute_result"
    }
   ],
   "source": [
    "rename!(vdf, :Age => :my_new_Age)"
   ]
  },
  {
   "cell_type": "code",
   "execution_count": 17,
   "metadata": {},
   "outputs": [
    {
     "data": {
      "text/html": [
       "<table class=\"data-frame\"><thead><tr><th></th><th>PassengerId</th><th>Survived</th><th>Pclass</th><th>Name</th></tr><tr><th></th><th>Int64</th><th>Int64</th><th>Int64</th><th>String</th></tr></thead><tbody><p>891 rows × 14 columns (omitted printing of 10 columns)</p><tr><th>1</th><td>1</td><td>0</td><td>3</td><td>Braund, Mr. Owen Harris</td></tr><tr><th>2</th><td>2</td><td>1</td><td>1</td><td>Cumings, Mrs. John Bradley (Florence Briggs Thayer)</td></tr><tr><th>3</th><td>3</td><td>1</td><td>3</td><td>Heikkinen, Miss. Laina</td></tr><tr><th>4</th><td>4</td><td>1</td><td>1</td><td>Futrelle, Mrs. Jacques Heath (Lily May Peel)</td></tr><tr><th>5</th><td>5</td><td>0</td><td>3</td><td>Allen, Mr. William Henry</td></tr><tr><th>6</th><td>6</td><td>0</td><td>3</td><td>Moran, Mr. James</td></tr><tr><th>7</th><td>7</td><td>0</td><td>1</td><td>McCarthy, Mr. Timothy J</td></tr><tr><th>8</th><td>8</td><td>0</td><td>3</td><td>Palsson, Master. Gosta Leonard</td></tr><tr><th>9</th><td>9</td><td>1</td><td>3</td><td>Johnson, Mrs. Oscar W (Elisabeth Vilhelmina Berg)</td></tr><tr><th>10</th><td>10</td><td>1</td><td>2</td><td>Nasser, Mrs. Nicholas (Adele Achem)</td></tr><tr><th>11</th><td>11</td><td>1</td><td>3</td><td>Sandstrom, Miss. Marguerite Rut</td></tr><tr><th>12</th><td>12</td><td>1</td><td>1</td><td>Bonnell, Miss. Elizabeth</td></tr><tr><th>13</th><td>13</td><td>0</td><td>3</td><td>Saundercock, Mr. William Henry</td></tr><tr><th>14</th><td>14</td><td>0</td><td>3</td><td>Andersson, Mr. Anders Johan</td></tr><tr><th>15</th><td>15</td><td>0</td><td>3</td><td>Vestrom, Miss. Hulda Amanda Adolfina</td></tr><tr><th>16</th><td>16</td><td>1</td><td>2</td><td>Hewlett, Mrs. (Mary D Kingcome) </td></tr><tr><th>17</th><td>17</td><td>0</td><td>3</td><td>Rice, Master. Eugene</td></tr><tr><th>18</th><td>18</td><td>1</td><td>2</td><td>Williams, Mr. Charles Eugene</td></tr><tr><th>19</th><td>19</td><td>0</td><td>3</td><td>Vander Planke, Mrs. Julius (Emelia Maria Vandemoortele)</td></tr><tr><th>20</th><td>20</td><td>1</td><td>3</td><td>Masselmani, Mrs. Fatima</td></tr><tr><th>21</th><td>21</td><td>0</td><td>2</td><td>Fynney, Mr. Joseph J</td></tr><tr><th>22</th><td>22</td><td>1</td><td>2</td><td>Beesley, Mr. Lawrence</td></tr><tr><th>23</th><td>23</td><td>1</td><td>3</td><td>McGowan, Miss. Anna \"Annie\"</td></tr><tr><th>24</th><td>24</td><td>1</td><td>1</td><td>Sloper, Mr. William Thompson</td></tr><tr><th>25</th><td>25</td><td>0</td><td>3</td><td>Palsson, Miss. Torborg Danira</td></tr><tr><th>26</th><td>26</td><td>1</td><td>3</td><td>Asplund, Mrs. Carl Oscar (Selma Augusta Emilia Johansson)</td></tr><tr><th>27</th><td>27</td><td>0</td><td>3</td><td>Emir, Mr. Farred Chehab</td></tr><tr><th>28</th><td>28</td><td>0</td><td>1</td><td>Fortune, Mr. Charles Alexander</td></tr><tr><th>29</th><td>29</td><td>1</td><td>3</td><td>O'Dwyer, Miss. Ellen \"Nellie\"</td></tr><tr><th>30</th><td>30</td><td>0</td><td>3</td><td>Todoroff, Mr. Lalio</td></tr><tr><th>&vellip;</th><td>&vellip;</td><td>&vellip;</td><td>&vellip;</td><td>&vellip;</td></tr></tbody></table>"
      ],
      "text/latex": [
       "\\begin{tabular}{r|ccccc}\n",
       "\t& PassengerId & Survived & Pclass & Name & \\\\\n",
       "\t\\hline\n",
       "\t& Int64 & Int64 & Int64 & String & \\\\\n",
       "\t\\hline\n",
       "\t1 & 1 & 0 & 3 & Braund, Mr. Owen Harris & $\\dots$ \\\\\n",
       "\t2 & 2 & 1 & 1 & Cumings, Mrs. John Bradley (Florence Briggs Thayer) & $\\dots$ \\\\\n",
       "\t3 & 3 & 1 & 3 & Heikkinen, Miss. Laina & $\\dots$ \\\\\n",
       "\t4 & 4 & 1 & 1 & Futrelle, Mrs. Jacques Heath (Lily May Peel) & $\\dots$ \\\\\n",
       "\t5 & 5 & 0 & 3 & Allen, Mr. William Henry & $\\dots$ \\\\\n",
       "\t6 & 6 & 0 & 3 & Moran, Mr. James & $\\dots$ \\\\\n",
       "\t7 & 7 & 0 & 1 & McCarthy, Mr. Timothy J & $\\dots$ \\\\\n",
       "\t8 & 8 & 0 & 3 & Palsson, Master. Gosta Leonard & $\\dots$ \\\\\n",
       "\t9 & 9 & 1 & 3 & Johnson, Mrs. Oscar W (Elisabeth Vilhelmina Berg) & $\\dots$ \\\\\n",
       "\t10 & 10 & 1 & 2 & Nasser, Mrs. Nicholas (Adele Achem) & $\\dots$ \\\\\n",
       "\t11 & 11 & 1 & 3 & Sandstrom, Miss. Marguerite Rut & $\\dots$ \\\\\n",
       "\t12 & 12 & 1 & 1 & Bonnell, Miss. Elizabeth & $\\dots$ \\\\\n",
       "\t13 & 13 & 0 & 3 & Saundercock, Mr. William Henry & $\\dots$ \\\\\n",
       "\t14 & 14 & 0 & 3 & Andersson, Mr. Anders Johan & $\\dots$ \\\\\n",
       "\t15 & 15 & 0 & 3 & Vestrom, Miss. Hulda Amanda Adolfina & $\\dots$ \\\\\n",
       "\t16 & 16 & 1 & 2 & Hewlett, Mrs. (Mary D Kingcome)  & $\\dots$ \\\\\n",
       "\t17 & 17 & 0 & 3 & Rice, Master. Eugene & $\\dots$ \\\\\n",
       "\t18 & 18 & 1 & 2 & Williams, Mr. Charles Eugene & $\\dots$ \\\\\n",
       "\t19 & 19 & 0 & 3 & Vander Planke, Mrs. Julius (Emelia Maria Vandemoortele) & $\\dots$ \\\\\n",
       "\t20 & 20 & 1 & 3 & Masselmani, Mrs. Fatima & $\\dots$ \\\\\n",
       "\t21 & 21 & 0 & 2 & Fynney, Mr. Joseph J & $\\dots$ \\\\\n",
       "\t22 & 22 & 1 & 2 & Beesley, Mr. Lawrence & $\\dots$ \\\\\n",
       "\t23 & 23 & 1 & 3 & McGowan, Miss. Anna \"Annie\" & $\\dots$ \\\\\n",
       "\t24 & 24 & 1 & 1 & Sloper, Mr. William Thompson & $\\dots$ \\\\\n",
       "\t25 & 25 & 0 & 3 & Palsson, Miss. Torborg Danira & $\\dots$ \\\\\n",
       "\t26 & 26 & 1 & 3 & Asplund, Mrs. Carl Oscar (Selma Augusta Emilia Johansson) & $\\dots$ \\\\\n",
       "\t27 & 27 & 0 & 3 & Emir, Mr. Farred Chehab & $\\dots$ \\\\\n",
       "\t28 & 28 & 0 & 1 & Fortune, Mr. Charles Alexander & $\\dots$ \\\\\n",
       "\t29 & 29 & 1 & 3 & O'Dwyer, Miss. Ellen \"Nellie\" & $\\dots$ \\\\\n",
       "\t30 & 30 & 0 & 3 & Todoroff, Mr. Lalio & $\\dots$ \\\\\n",
       "\t$\\dots$ & $\\dots$ & $\\dots$ & $\\dots$ & $\\dots$ &  \\\\\n",
       "\\end{tabular}\n"
      ],
      "text/plain": [
       "891×14 DataFrame. Omitted printing of 11 columns\n",
       "│ Row │ PassengerId │ Survived │ Pclass │\n",
       "│     │ \u001b[90mInt64\u001b[39m       │ \u001b[90mInt64\u001b[39m    │ \u001b[90mInt64\u001b[39m  │\n",
       "├─────┼─────────────┼──────────┼────────┤\n",
       "│ 1   │ 1           │ 0        │ 3      │\n",
       "│ 2   │ 2           │ 1        │ 1      │\n",
       "│ 3   │ 3           │ 1        │ 3      │\n",
       "│ 4   │ 4           │ 1        │ 1      │\n",
       "│ 5   │ 5           │ 0        │ 3      │\n",
       "│ 6   │ 6           │ 0        │ 3      │\n",
       "│ 7   │ 7           │ 0        │ 1      │\n",
       "│ 8   │ 8           │ 0        │ 3      │\n",
       "│ 9   │ 9           │ 1        │ 3      │\n",
       "│ 10  │ 10          │ 1        │ 2      │\n",
       "⋮\n",
       "│ 881 │ 881         │ 1        │ 2      │\n",
       "│ 882 │ 882         │ 0        │ 3      │\n",
       "│ 883 │ 883         │ 0        │ 3      │\n",
       "│ 884 │ 884         │ 0        │ 2      │\n",
       "│ 885 │ 885         │ 0        │ 3      │\n",
       "│ 886 │ 886         │ 0        │ 3      │\n",
       "│ 887 │ 887         │ 0        │ 2      │\n",
       "│ 888 │ 888         │ 1        │ 1      │\n",
       "│ 889 │ 889         │ 0        │ 3      │\n",
       "│ 890 │ 890         │ 1        │ 1      │\n",
       "│ 891 │ 891         │ 0        │ 3      │"
      ]
     },
     "execution_count": 17,
     "metadata": {},
     "output_type": "execute_result"
    }
   ],
   "source": [
    "xdf=join(df, vdf, on = :PassengerId)"
   ]
  },
  {
   "cell_type": "code",
   "execution_count": 18,
   "metadata": {},
   "outputs": [
    {
     "data": {
      "text/html": [
       "<table class=\"data-frame\"><thead><tr><th></th><th>variable</th><th>nmissing</th></tr><tr><th></th><th>Symbol</th><th>Union…</th></tr></thead><tbody><p>14 rows × 2 columns</p><tr><th>1</th><td>PassengerId</td><td></td></tr><tr><th>2</th><td>Survived</td><td></td></tr><tr><th>3</th><td>Pclass</td><td></td></tr><tr><th>4</th><td>Name</td><td></td></tr><tr><th>5</th><td>Sex</td><td></td></tr><tr><th>6</th><td>Age</td><td>177</td></tr><tr><th>7</th><td>SibSp</td><td></td></tr><tr><th>8</th><td>Parch</td><td></td></tr><tr><th>9</th><td>Ticket</td><td></td></tr><tr><th>10</th><td>Fare</td><td></td></tr><tr><th>11</th><td>Cabin</td><td>687</td></tr><tr><th>12</th><td>Embarked</td><td>2</td></tr><tr><th>13</th><td>new_Age</td><td></td></tr><tr><th>14</th><td>my_new_Age</td><td></td></tr></tbody></table>"
      ],
      "text/latex": [
       "\\begin{tabular}{r|cc}\n",
       "\t& variable & nmissing\\\\\n",
       "\t\\hline\n",
       "\t& Symbol & Union…\\\\\n",
       "\t\\hline\n",
       "\t1 & PassengerId &  \\\\\n",
       "\t2 & Survived &  \\\\\n",
       "\t3 & Pclass &  \\\\\n",
       "\t4 & Name &  \\\\\n",
       "\t5 & Sex &  \\\\\n",
       "\t6 & Age & 177 \\\\\n",
       "\t7 & SibSp &  \\\\\n",
       "\t8 & Parch &  \\\\\n",
       "\t9 & Ticket &  \\\\\n",
       "\t10 & Fare &  \\\\\n",
       "\t11 & Cabin & 687 \\\\\n",
       "\t12 & Embarked & 2 \\\\\n",
       "\t13 & new\\_Age &  \\\\\n",
       "\t14 & my\\_new\\_Age &  \\\\\n",
       "\\end{tabular}\n"
      ],
      "text/plain": [
       "14×2 DataFrame\n",
       "│ Row │ variable    │ nmissing │\n",
       "│     │ \u001b[90mSymbol\u001b[39m      │ \u001b[90mUnion…\u001b[39m   │\n",
       "├─────┼─────────────┼──────────┤\n",
       "│ 1   │ PassengerId │          │\n",
       "│ 2   │ Survived    │          │\n",
       "│ 3   │ Pclass      │          │\n",
       "│ 4   │ Name        │          │\n",
       "│ 5   │ Sex         │          │\n",
       "│ 6   │ Age         │ 177      │\n",
       "│ 7   │ SibSp       │          │\n",
       "│ 8   │ Parch       │          │\n",
       "│ 9   │ Ticket      │          │\n",
       "│ 10  │ Fare        │          │\n",
       "│ 11  │ Cabin       │ 687      │\n",
       "│ 12  │ Embarked    │ 2        │\n",
       "│ 13  │ new_Age     │          │\n",
       "│ 14  │ my_new_Age  │          │"
      ]
     },
     "execution_count": 18,
     "metadata": {},
     "output_type": "execute_result"
    }
   ],
   "source": [
    "describe(xdf, :nmissing)"
   ]
  },
  {
   "cell_type": "code",
   "execution_count": 19,
   "metadata": {},
   "outputs": [
    {
     "data": {
      "text/plain": [
       "30.726644591611475"
      ]
     },
     "execution_count": 19,
     "metadata": {},
     "output_type": "execute_result"
    }
   ],
   "source": [
    "male_my_new_age_avg = mean(xdf[xdf.Sex .==\"male\", :my_new_Age])"
   ]
  },
  {
   "cell_type": "code",
   "execution_count": 20,
   "metadata": {},
   "outputs": [
    {
     "data": {
      "text/plain": [
       "27.91570881226054"
      ]
     },
     "execution_count": 20,
     "metadata": {},
     "output_type": "execute_result"
    }
   ],
   "source": [
    "female_my_new_age_avg = mean(xdf[xdf.Sex .==\"female\", :my_new_Age])"
   ]
  }
 ],
 "metadata": {
  "colab": {
   "name": "julia_020_hw.ipynb",
   "provenance": []
  },
  "kernelspec": {
   "display_name": "Julia 1.4.0",
   "language": "julia",
   "name": "julia-1.4"
  },
  "language_info": {
   "file_extension": ".jl",
   "mimetype": "application/julia",
   "name": "julia",
   "version": "1.4.0"
  }
 },
 "nbformat": 4,
 "nbformat_minor": 4
}
