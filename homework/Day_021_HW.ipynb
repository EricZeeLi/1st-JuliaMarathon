{
 "cells": [
  {
   "cell_type": "markdown",
   "metadata": {},
   "source": [
    "# Julia 基礎圖表繪製：Gadfly 一維資料圖表\n",
    "\n",
    "## 作業 021"
   ]
  },
  {
   "cell_type": "markdown",
   "metadata": {},
   "source": [
    "1. 比較看看盒狀圖與 violin plot 在同樣的資料上分別展現資料的什麼特性。"
   ]
  },
  {
   "cell_type": "markdown",
   "metadata": {},
   "source": [
    "2. 同樣的資料可以以條狀圖或是線圖繪製，思考兩者在表現資料上的特點。"
   ]
  },
  {
   "cell_type": "markdown",
   "metadata": {},
   "source": [
    "## 答案\n",
    "\n",
    "### 1\n",
    "- 盒狀圖（boxplot）可以將不同類別分別畫出它們資料的分佈狀況，他可以顯⽰出資料的最⼤值、最⼩值、中位數、及上下四分位數。\n",
    "- Violin plot 也是將不同的類別分別畫出它們資料分佈的情況，與盒狀圖不同的是，violin plot 會去估計出資料分佈的密度。Violin plot 可以⽤來比較類別之間資料的分佈狀態。\n",
    "\n",
    "### 2\n",
    "- 條狀圖呈不同的值，條狀圖（bar chart）是⼀種觀察資料出現頻率的⽅式。\n",
    "- 線圖呈現趨勢變化，線圖（line chart）是個可以展現資料趨勢的圖表。"
   ]
  }
 ],
 "metadata": {
  "kernelspec": {
   "display_name": "Julia 1.4.0",
   "language": "julia",
   "name": "julia-1.4"
  },
  "language_info": {
   "file_extension": ".jl",
   "mimetype": "application/julia",
   "name": "julia",
   "version": "1.4.0"
  }
 },
 "nbformat": 4,
 "nbformat_minor": 4
}
